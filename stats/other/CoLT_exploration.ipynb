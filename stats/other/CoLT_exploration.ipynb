{
 "cells": [
  {
   "cell_type": "code",
   "execution_count": 1,
   "metadata": {},
   "outputs": [],
   "source": [
    "from sklearn.linear_model import LinearRegression\n",
    "import pandas as pd\n",
    "import numpy as np \n",
    "import matplotlib.pyplot as plt\n",
    "import pickle \n",
    "from sklearn.preprocessing import PolynomialFeatures\n",
    "\n",
    "import numpy as np\n",
    "import json \n",
    "import joblib\n",
    "import sys \n",
    "import os\n",
    "import csv\n",
    "import os"
   ]
  },
  {
   "attachments": {},
   "cell_type": "markdown",
   "metadata": {},
   "source": [
    "## Data Loading"
   ]
  },
  {
   "cell_type": "code",
   "execution_count": 51,
   "metadata": {},
   "outputs": [],
   "source": [
    "\n",
    "r = os.getcwd()\n",
    "static_path = os.path.join(r, \"stats\", \"comparison_files\", \"comparison_objects\", \"processed_data_distance_associator_solitair.json\")\n",
    "ace_w_path = os.path.join(r, \"CoLT\", \"CoLT Estimation\",  \"processed_data_ALL_DISTANCE_ASSOCIATORS_W_UCB.5_final.json\")\n",
    "ace_wo_path= os.path.join(r, \"CoLT\", \"CoLT Estimation\", \"processed_data_ALL_DISTANCE_ASSOCIATORS_WO_UCB.5_final.json\")"
   ]
  },
  {
   "cell_type": "code",
   "execution_count": 52,
   "metadata": {},
   "outputs": [
    {
     "data": {
      "text/plain": [
       "'/Users/spencerbrosnahan/Documents/GitHub/codenames-ensemble'"
      ]
     },
     "execution_count": 52,
     "metadata": {},
     "output_type": "execute_result"
    }
   ],
   "source": [
    "r"
   ]
  },
  {
   "cell_type": "code",
   "execution_count": 53,
   "metadata": {},
   "outputs": [],
   "source": [
    "with open(static_path, \"r\") as f:\n",
    "    static_data = json.load(f)\n",
    "with open(ace_w_path, \"r\") as f:\n",
    "    ace_w_data = json.load(f)\n",
    "with open(ace_wo_path, \"r\") as f:\n",
    "    ace_wo_data = json.load(f)"
   ]
  },
  {
   "cell_type": "code",
   "execution_count": 54,
   "metadata": {},
   "outputs": [],
   "source": [
    "cols = [\"Win Rate\", \"Average Win Time\", \"Min Win Time\", \"Average Red Words Flipped By Game\", \"Average Blue Words Flipped By Game\",\"Average Bystander Words Flipped By Game\", \"Average Assassin Words Flipped By Game\", \"Final Pair Score\"]"
   ]
  },
  {
   "cell_type": "code",
   "execution_count": 55,
   "metadata": {},
   "outputs": [],
   "source": [
    "data = []"
   ]
  },
  {
   "cell_type": "code",
   "execution_count": 56,
   "metadata": {},
   "outputs": [],
   "source": [
    "for d in [static_data, ace_w_data, ace_wo_data]:\n",
    "    for cm in d:\n",
    "        for g in d[cm]:\n",
    "            row = []\n",
    "            for s in cols:\n",
    "                row.append(d[cm][g][s][0])\n",
    "            data.append(row)"
   ]
  },
  {
   "cell_type": "code",
   "execution_count": 57,
   "metadata": {},
   "outputs": [],
   "source": [
    "data_table = pd.DataFrame(data, columns=cols)"
   ]
  },
  {
   "cell_type": "code",
   "execution_count": 58,
   "metadata": {},
   "outputs": [
    {
     "data": {
      "text/plain": [
       "113"
      ]
     },
     "execution_count": 58,
     "metadata": {},
     "output_type": "execute_result"
    }
   ],
   "source": [
    "len(data_table)"
   ]
  },
  {
   "cell_type": "code",
   "execution_count": 59,
   "metadata": {},
   "outputs": [
    {
     "data": {
      "text/html": [
       "<div>\n",
       "<style scoped>\n",
       "    .dataframe tbody tr th:only-of-type {\n",
       "        vertical-align: middle;\n",
       "    }\n",
       "\n",
       "    .dataframe tbody tr th {\n",
       "        vertical-align: top;\n",
       "    }\n",
       "\n",
       "    .dataframe thead th {\n",
       "        text-align: right;\n",
       "    }\n",
       "</style>\n",
       "<table border=\"1\" class=\"dataframe\">\n",
       "  <thead>\n",
       "    <tr style=\"text-align: right;\">\n",
       "      <th></th>\n",
       "      <th>Win Rate</th>\n",
       "      <th>Average Win Time</th>\n",
       "      <th>Min Win Time</th>\n",
       "      <th>Average Red Words Flipped By Game</th>\n",
       "      <th>Average Blue Words Flipped By Game</th>\n",
       "      <th>Average Bystander Words Flipped By Game</th>\n",
       "      <th>Average Assassin Words Flipped By Game</th>\n",
       "      <th>Final Pair Score</th>\n",
       "    </tr>\n",
       "  </thead>\n",
       "  <tbody>\n",
       "    <tr>\n",
       "      <th>0</th>\n",
       "      <td>0.881853</td>\n",
       "      <td>5.206639</td>\n",
       "      <td>3.224000</td>\n",
       "      <td>8.468587</td>\n",
       "      <td>0.886147</td>\n",
       "      <td>0.771053</td>\n",
       "      <td>0.118147</td>\n",
       "      <td>0.846839</td>\n",
       "    </tr>\n",
       "    <tr>\n",
       "      <th>1</th>\n",
       "      <td>0.777933</td>\n",
       "      <td>6.375741</td>\n",
       "      <td>3.725333</td>\n",
       "      <td>8.006267</td>\n",
       "      <td>1.532373</td>\n",
       "      <td>1.340773</td>\n",
       "      <td>0.221760</td>\n",
       "      <td>-0.036113</td>\n",
       "    </tr>\n",
       "    <tr>\n",
       "      <th>2</th>\n",
       "      <td>0.957107</td>\n",
       "      <td>4.454772</td>\n",
       "      <td>2.930667</td>\n",
       "      <td>8.815560</td>\n",
       "      <td>0.327027</td>\n",
       "      <td>0.289000</td>\n",
       "      <td>0.042893</td>\n",
       "      <td>1.601976</td>\n",
       "    </tr>\n",
       "    <tr>\n",
       "      <th>3</th>\n",
       "      <td>0.880933</td>\n",
       "      <td>5.181492</td>\n",
       "      <td>3.180667</td>\n",
       "      <td>8.477400</td>\n",
       "      <td>0.889693</td>\n",
       "      <td>0.771133</td>\n",
       "      <td>0.119067</td>\n",
       "      <td>0.851417</td>\n",
       "    </tr>\n",
       "    <tr>\n",
       "      <th>4</th>\n",
       "      <td>0.857813</td>\n",
       "      <td>5.448871</td>\n",
       "      <td>3.323333</td>\n",
       "      <td>8.371160</td>\n",
       "      <td>1.060760</td>\n",
       "      <td>0.929627</td>\n",
       "      <td>0.142173</td>\n",
       "      <td>0.623495</td>\n",
       "    </tr>\n",
       "  </tbody>\n",
       "</table>\n",
       "</div>"
      ],
      "text/plain": [
       "   Win Rate  Average Win Time  Min Win Time  \\\n",
       "0  0.881853          5.206639      3.224000   \n",
       "1  0.777933          6.375741      3.725333   \n",
       "2  0.957107          4.454772      2.930667   \n",
       "3  0.880933          5.181492      3.180667   \n",
       "4  0.857813          5.448871      3.323333   \n",
       "\n",
       "   Average Red Words Flipped By Game  Average Blue Words Flipped By Game  \\\n",
       "0                           8.468587                            0.886147   \n",
       "1                           8.006267                            1.532373   \n",
       "2                           8.815560                            0.327027   \n",
       "3                           8.477400                            0.889693   \n",
       "4                           8.371160                            1.060760   \n",
       "\n",
       "   Average Bystander Words Flipped By Game  \\\n",
       "0                                 0.771053   \n",
       "1                                 1.340773   \n",
       "2                                 0.289000   \n",
       "3                                 0.771133   \n",
       "4                                 0.929627   \n",
       "\n",
       "   Average Assassin Words Flipped By Game  Final Pair Score  \n",
       "0                                0.118147          0.846839  \n",
       "1                                0.221760         -0.036113  \n",
       "2                                0.042893          1.601976  \n",
       "3                                0.119067          0.851417  \n",
       "4                                0.142173          0.623495  "
      ]
     },
     "execution_count": 59,
     "metadata": {},
     "output_type": "execute_result"
    }
   ],
   "source": [
    "data_table.head()"
   ]
  },
  {
   "cell_type": "code",
   "execution_count": 60,
   "metadata": {},
   "outputs": [],
   "source": [
    "X = data_table[cols[:-1]]\n",
    "y = data_table[cols[-1]]"
   ]
  },
  {
   "cell_type": "code",
   "execution_count": 61,
   "metadata": {},
   "outputs": [
    {
     "data": {
      "text/html": [
       "<div>\n",
       "<style scoped>\n",
       "    .dataframe tbody tr th:only-of-type {\n",
       "        vertical-align: middle;\n",
       "    }\n",
       "\n",
       "    .dataframe tbody tr th {\n",
       "        vertical-align: top;\n",
       "    }\n",
       "\n",
       "    .dataframe thead th {\n",
       "        text-align: right;\n",
       "    }\n",
       "</style>\n",
       "<table border=\"1\" class=\"dataframe\">\n",
       "  <thead>\n",
       "    <tr style=\"text-align: right;\">\n",
       "      <th></th>\n",
       "      <th>Win Rate</th>\n",
       "      <th>Average Win Time</th>\n",
       "      <th>Min Win Time</th>\n",
       "      <th>Average Red Words Flipped By Game</th>\n",
       "      <th>Average Blue Words Flipped By Game</th>\n",
       "      <th>Average Bystander Words Flipped By Game</th>\n",
       "      <th>Average Assassin Words Flipped By Game</th>\n",
       "    </tr>\n",
       "  </thead>\n",
       "  <tbody>\n",
       "    <tr>\n",
       "      <th>0</th>\n",
       "      <td>0.881853</td>\n",
       "      <td>5.206639</td>\n",
       "      <td>3.224000</td>\n",
       "      <td>8.468587</td>\n",
       "      <td>0.886147</td>\n",
       "      <td>0.771053</td>\n",
       "      <td>0.118147</td>\n",
       "    </tr>\n",
       "    <tr>\n",
       "      <th>1</th>\n",
       "      <td>0.777933</td>\n",
       "      <td>6.375741</td>\n",
       "      <td>3.725333</td>\n",
       "      <td>8.006267</td>\n",
       "      <td>1.532373</td>\n",
       "      <td>1.340773</td>\n",
       "      <td>0.221760</td>\n",
       "    </tr>\n",
       "    <tr>\n",
       "      <th>2</th>\n",
       "      <td>0.957107</td>\n",
       "      <td>4.454772</td>\n",
       "      <td>2.930667</td>\n",
       "      <td>8.815560</td>\n",
       "      <td>0.327027</td>\n",
       "      <td>0.289000</td>\n",
       "      <td>0.042893</td>\n",
       "    </tr>\n",
       "    <tr>\n",
       "      <th>3</th>\n",
       "      <td>0.880933</td>\n",
       "      <td>5.181492</td>\n",
       "      <td>3.180667</td>\n",
       "      <td>8.477400</td>\n",
       "      <td>0.889693</td>\n",
       "      <td>0.771133</td>\n",
       "      <td>0.119067</td>\n",
       "    </tr>\n",
       "    <tr>\n",
       "      <th>4</th>\n",
       "      <td>0.857813</td>\n",
       "      <td>5.448871</td>\n",
       "      <td>3.323333</td>\n",
       "      <td>8.371160</td>\n",
       "      <td>1.060760</td>\n",
       "      <td>0.929627</td>\n",
       "      <td>0.142173</td>\n",
       "    </tr>\n",
       "  </tbody>\n",
       "</table>\n",
       "</div>"
      ],
      "text/plain": [
       "   Win Rate  Average Win Time  Min Win Time  \\\n",
       "0  0.881853          5.206639      3.224000   \n",
       "1  0.777933          6.375741      3.725333   \n",
       "2  0.957107          4.454772      2.930667   \n",
       "3  0.880933          5.181492      3.180667   \n",
       "4  0.857813          5.448871      3.323333   \n",
       "\n",
       "   Average Red Words Flipped By Game  Average Blue Words Flipped By Game  \\\n",
       "0                           8.468587                            0.886147   \n",
       "1                           8.006267                            1.532373   \n",
       "2                           8.815560                            0.327027   \n",
       "3                           8.477400                            0.889693   \n",
       "4                           8.371160                            1.060760   \n",
       "\n",
       "   Average Bystander Words Flipped By Game  \\\n",
       "0                                 0.771053   \n",
       "1                                 1.340773   \n",
       "2                                 0.289000   \n",
       "3                                 0.771133   \n",
       "4                                 0.929627   \n",
       "\n",
       "   Average Assassin Words Flipped By Game  \n",
       "0                                0.118147  \n",
       "1                                0.221760  \n",
       "2                                0.042893  \n",
       "3                                0.119067  \n",
       "4                                0.142173  "
      ]
     },
     "execution_count": 61,
     "metadata": {},
     "output_type": "execute_result"
    }
   ],
   "source": [
    "X.head()"
   ]
  },
  {
   "cell_type": "code",
   "execution_count": 62,
   "metadata": {},
   "outputs": [
    {
     "data": {
      "text/plain": [
       "0    0.846839\n",
       "1   -0.036113\n",
       "2    1.601976\n",
       "3    0.851417\n",
       "4    0.623495\n",
       "Name: Final Pair Score, dtype: float64"
      ]
     },
     "execution_count": 62,
     "metadata": {},
     "output_type": "execute_result"
    }
   ],
   "source": [
    "y.head()"
   ]
  },
  {
   "attachments": {},
   "cell_type": "markdown",
   "metadata": {},
   "source": [
    "## Expoloratory Data Analysis\n",
    "\n",
    "From this, we may improve accuracy by using the log of Assassin Words and Average Win Time"
   ]
  },
  {
   "cell_type": "code",
   "execution_count": 63,
   "metadata": {},
   "outputs": [],
   "source": [
    "def plot_data(data, target, col_name, add, bad_list):\n",
    "    plt.title(col_name)\n",
    "    plt.hist(data[col_name])\n",
    "    plt.show()\n",
    "\n",
    "    \n",
    "    plt.title(\"log of \" + col_name)\n",
    "    if col_name in bad_list:\n",
    "        plt.hist(np.log(data[col_name] + add))\n",
    "    else:\n",
    "        plt.hist(np.log(data[col_name]))\n",
    "    plt.show()\n",
    "    \n",
    "    plt.title(f\"{col_name}-CoLT\")\n",
    "    plt.scatter(data[col_name], target)\n",
    "    plt.show()\n",
    "\n",
    "    plt.title(\"log of \" + col_name + \"-CoLT\")\n",
    "    if col_name in bad_list:\n",
    "        plt.scatter(np.log(data[col_name] + add), target)\n",
    "    else:\n",
    "        plt.scatter(np.log(data[col_name]), target)\n",
    "    plt.show()"
   ]
  },
  {
   "cell_type": "code",
   "execution_count": 64,
   "metadata": {},
   "outputs": [
    {
     "data": {
      "image/png": "[encoded data removed]",
      "text/plain": [
       "<Figure size 640x480 with 1 Axes>"
      ]
     },
     "metadata": {},
     "output_type": "display_data"
    },
    {
     "data": {
      "image/png": "[encoded data removed]",
      "text/plain": [
       "<Figure size 640x480 with 1 Axes>"
      ]
     },
     "metadata": {},
     "output_type": "display_data"
    },
    {
     "data": {
      "image/png": "[encoded data removed]",
      "text/plain": [
       "<Figure size 640x480 with 1 Axes>"
      ]
     },
     "metadata": {},
     "output_type": "display_data"
    },
    {
     "data": {
      "image/png": "[encoded data removed]",
      "text/plain": [
       "<Figure size 640x480 with 1 Axes>"
      ]
     },
     "metadata": {},
     "output_type": "display_data"
    },
    {
     "data": {
      "image/png": "[encoded data removed]",
      "text/plain": [
       "<Figure size 640x480 with 1 Axes>"
      ]
     },
     "metadata": {},
     "output_type": "display_data"
    },
    {
     "data": {
      "image/png": "[encoded data removed]",
      "text/plain": [
       "<Figure size 640x480 with 1 Axes>"
      ]
     },
     "metadata": {},
     "output_type": "display_data"
    },
    {
     "data": {
      "image/png": "[encoded data removed]",
      "text/plain": [
       "<Figure size 640x480 with 1 Axes>"
      ]
     },
     "metadata": {},
     "output_type": "display_data"
    },
    {
     "data": {
      "image/png": "[encoded data removed]",
      "text/plain": [
       "<Figure size 640x480 with 1 Axes>"
      ]
     },
     "metadata": {},
     "output_type": "display_data"
    },
    {
     "data": {
      "image/png": "[encoded data removed]",
      "text/plain": [
       "<Figure size 640x480 with 1 Axes>"
      ]
     },
     "metadata": {},
     "output_type": "display_data"
    },
    {
     "data": {
      "image/png": "[encoded data removed]",
      "text/plain": [
       "<Figure size 640x480 with 1 Axes>"
      ]
     },
     "metadata": {},
     "output_type": "display_data"
    },
    {
     "data": {
      "image/png": "[encoded data removed]",
      "text/plain": [
       "<Figure size 640x480 with 1 Axes>"
      ]
     },
     "metadata": {},
     "output_type": "display_data"
    },
    {
     "data": {
      "image/png": "[encoded data removed]",
      "text/plain": [
       "<Figure size 640x480 with 1 Axes>"
      ]
     },
     "metadata": {},
     "output_type": "display_data"
    },
    {
     "data": {
      "image/png": "[encoded data removed]",
      "text/plain": [
       "<Figure size 640x480 with 1 Axes>"
      ]
     },
     "metadata": {},
     "output_type": "display_data"
    },
    {
     "data": {
      "image/png": "[encoded data removed]",
      "text/plain": [
       "<Figure size 640x480 with 1 Axes>"
      ]
     },
     "metadata": {},
     "output_type": "display_data"
    },
    {
     "data": {
      "image/png": "[encoded data removed]",
      "text/plain": [
       "<Figure size 640x480 with 1 Axes>"
      ]
     },
     "metadata": {},
     "output_type": "display_data"
    },
    {
     "data": {
      "image/png": "[encoded data removed]",
      "text/plain": [
       "<Figure size 640x480 with 1 Axes>"
      ]
     },
     "metadata": {},
     "output_type": "display_data"
    },
    {
     "data": {
      "image/png": "[encoded data removed]",
      "text/plain": [
       "<Figure size 640x480 with 1 Axes>"
      ]
     },
     "metadata": {},
     "output_type": "display_data"
    },
    {
     "data": {
      "image/png": "[encoded data removed]",
      "text/plain": [
       "<Figure size 640x480 with 1 Axes>"
      ]
     },
     "metadata": {},
     "output_type": "display_data"
    },
    {
     "data": {
      "image/png": "[encoded data removed]",
      "text/plain": [
       "<Figure size 640x480 with 1 Axes>"
      ]
     },
     "metadata": {},
     "output_type": "display_data"
    },
    {
     "data": {
      "image/png": "[encoded data removed]",
      "text/plain": [
       "<Figure size 640x480 with 1 Axes>"
      ]
     },
     "metadata": {},
     "output_type": "display_data"
    },
    {
     "data": {
      "image/png": "[encoded data removed]",
      "text/plain": [
       "<Figure size 640x480 with 1 Axes>"
      ]
     },
     "metadata": {},
     "output_type": "display_data"
    },
    {
     "data": {
      "image/png": "[encoded data removed]",
      "text/plain": [
       "<Figure size 640x480 with 1 Axes>"
      ]
     },
     "metadata": {},
     "output_type": "display_data"
    },
    {
     "data": {
      "image/png": "[encoded data removed]",
      "text/plain": [
       "<Figure size 640x480 with 1 Axes>"
      ]
     },
     "metadata": {},
     "output_type": "display_data"
    },
    {
     "data": {
      "image/png": "[encoded data removed]",
      "text/plain": [
       "<Figure size 640x480 with 1 Axes>"
      ]
     },
     "metadata": {},
     "output_type": "display_data"
    },
    {
     "data": {
      "image/png": "[encoded data removed]",
      "text/plain": [
       "<Figure size 640x480 with 1 Axes>"
      ]
     },
     "metadata": {},
     "output_type": "display_data"
    },
    {
     "data": {
      "image/png": "[encoded data removed]",
      "text/plain": [
       "<Figure size 640x480 with 1 Axes>"
      ]
     },
     "metadata": {},
     "output_type": "display_data"
    },
    {
     "data": {
      "image/png": "[encoded data removed]",
      "text/plain": [
       "<Figure size 640x480 with 1 Axes>"
      ]
     },
     "metadata": {},
     "output_type": "display_data"
    },
    {
     "data": {
      "image/png": "[encoded data removed]",
      "text/plain": [
       "<Figure size 640x480 with 1 Axes>"
      ]
     },
     "metadata": {},
     "output_type": "display_data"
    }
   ],
   "source": [
    "l = [\"Average Blue Words Flipped By Game\", \"Average Bystander Words Flipped By Game\", \"Average Assassin Words Flipped By Game\"]\n",
    "for p in cols[:-1]:   \n",
    "    plot_data(data_table, y, p, 1, l)"
   ]
  },
  {
   "attachments": {},
   "cell_type": "markdown",
   "metadata": {},
   "source": [
    "## Data Transformations/Prep"
   ]
  },
  {
   "cell_type": "code",
   "execution_count": 65,
   "metadata": {},
   "outputs": [
    {
     "data": {
      "text/html": [
       "<div>\n",
       "<style scoped>\n",
       "    .dataframe tbody tr th:only-of-type {\n",
       "        vertical-align: middle;\n",
       "    }\n",
       "\n",
       "    .dataframe tbody tr th {\n",
       "        vertical-align: top;\n",
       "    }\n",
       "\n",
       "    .dataframe thead th {\n",
       "        text-align: right;\n",
       "    }\n",
       "</style>\n",
       "<table border=\"1\" class=\"dataframe\">\n",
       "  <thead>\n",
       "    <tr style=\"text-align: right;\">\n",
       "      <th></th>\n",
       "      <th>Win Rate</th>\n",
       "      <th>Average Win Time</th>\n",
       "      <th>Min Win Time</th>\n",
       "      <th>Average Red Words Flipped By Game</th>\n",
       "      <th>Average Blue Words Flipped By Game</th>\n",
       "      <th>Average Bystander Words Flipped By Game</th>\n",
       "      <th>Average Assassin Words Flipped By Game</th>\n",
       "      <th>log(Average Assassin Words Flipped By Game + 1)</th>\n",
       "      <th>log(Average Win Time)</th>\n",
       "    </tr>\n",
       "  </thead>\n",
       "  <tbody>\n",
       "    <tr>\n",
       "      <th>0</th>\n",
       "      <td>0.881853</td>\n",
       "      <td>5.206639</td>\n",
       "      <td>3.224000</td>\n",
       "      <td>8.468587</td>\n",
       "      <td>0.886147</td>\n",
       "      <td>0.771053</td>\n",
       "      <td>0.118147</td>\n",
       "      <td>0.111673</td>\n",
       "      <td>1.649934</td>\n",
       "    </tr>\n",
       "    <tr>\n",
       "      <th>1</th>\n",
       "      <td>0.777933</td>\n",
       "      <td>6.375741</td>\n",
       "      <td>3.725333</td>\n",
       "      <td>8.006267</td>\n",
       "      <td>1.532373</td>\n",
       "      <td>1.340773</td>\n",
       "      <td>0.221760</td>\n",
       "      <td>0.200292</td>\n",
       "      <td>1.852500</td>\n",
       "    </tr>\n",
       "    <tr>\n",
       "      <th>2</th>\n",
       "      <td>0.957107</td>\n",
       "      <td>4.454772</td>\n",
       "      <td>2.930667</td>\n",
       "      <td>8.815560</td>\n",
       "      <td>0.327027</td>\n",
       "      <td>0.289000</td>\n",
       "      <td>0.042893</td>\n",
       "      <td>0.041999</td>\n",
       "      <td>1.493976</td>\n",
       "    </tr>\n",
       "    <tr>\n",
       "      <th>3</th>\n",
       "      <td>0.880933</td>\n",
       "      <td>5.181492</td>\n",
       "      <td>3.180667</td>\n",
       "      <td>8.477400</td>\n",
       "      <td>0.889693</td>\n",
       "      <td>0.771133</td>\n",
       "      <td>0.119067</td>\n",
       "      <td>0.112495</td>\n",
       "      <td>1.645093</td>\n",
       "    </tr>\n",
       "    <tr>\n",
       "      <th>4</th>\n",
       "      <td>0.857813</td>\n",
       "      <td>5.448871</td>\n",
       "      <td>3.323333</td>\n",
       "      <td>8.371160</td>\n",
       "      <td>1.060760</td>\n",
       "      <td>0.929627</td>\n",
       "      <td>0.142173</td>\n",
       "      <td>0.132933</td>\n",
       "      <td>1.695409</td>\n",
       "    </tr>\n",
       "  </tbody>\n",
       "</table>\n",
       "</div>"
      ],
      "text/plain": [
       "   Win Rate  Average Win Time  Min Win Time  \\\n",
       "0  0.881853          5.206639      3.224000   \n",
       "1  0.777933          6.375741      3.725333   \n",
       "2  0.957107          4.454772      2.930667   \n",
       "3  0.880933          5.181492      3.180667   \n",
       "4  0.857813          5.448871      3.323333   \n",
       "\n",
       "   Average Red Words Flipped By Game  Average Blue Words Flipped By Game  \\\n",
       "0                           8.468587                            0.886147   \n",
       "1                           8.006267                            1.532373   \n",
       "2                           8.815560                            0.327027   \n",
       "3                           8.477400                            0.889693   \n",
       "4                           8.371160                            1.060760   \n",
       "\n",
       "   Average Bystander Words Flipped By Game  \\\n",
       "0                                 0.771053   \n",
       "1                                 1.340773   \n",
       "2                                 0.289000   \n",
       "3                                 0.771133   \n",
       "4                                 0.929627   \n",
       "\n",
       "   Average Assassin Words Flipped By Game  \\\n",
       "0                                0.118147   \n",
       "1                                0.221760   \n",
       "2                                0.042893   \n",
       "3                                0.119067   \n",
       "4                                0.142173   \n",
       "\n",
       "   log(Average Assassin Words Flipped By Game + 1)  log(Average Win Time)  \n",
       "0                                         0.111673               1.649934  \n",
       "1                                         0.200292               1.852500  \n",
       "2                                         0.041999               1.493976  \n",
       "3                                         0.112495               1.645093  \n",
       "4                                         0.132933               1.695409  "
      ]
     },
     "execution_count": 65,
     "metadata": {},
     "output_type": "execute_result"
    }
   ],
   "source": [
    "#We add the log transforms to X \n",
    "X[\"log(Average Assassin Words Flipped By Game + 1)\"] = np.log(X[\"Average Assassin Words Flipped By Game\"] + 1)\n",
    "X[\"log(Average Win Time)\"] = np.log(X[\"Average Win Time\"])\n",
    "X.head()"
   ]
  },
  {
   "cell_type": "code",
   "execution_count": 66,
   "metadata": {},
   "outputs": [
    {
     "data": {
      "text/html": [
       "<div>\n",
       "<style scoped>\n",
       "    .dataframe tbody tr th:only-of-type {\n",
       "        vertical-align: middle;\n",
       "    }\n",
       "\n",
       "    .dataframe tbody tr th {\n",
       "        vertical-align: top;\n",
       "    }\n",
       "\n",
       "    .dataframe thead th {\n",
       "        text-align: right;\n",
       "    }\n",
       "</style>\n",
       "<table border=\"1\" class=\"dataframe\">\n",
       "  <thead>\n",
       "    <tr style=\"text-align: right;\">\n",
       "      <th></th>\n",
       "      <th>Win Rate</th>\n",
       "      <th>Average Win Time</th>\n",
       "      <th>Min Win Time</th>\n",
       "      <th>Average Red Words Flipped By Game</th>\n",
       "      <th>Average Blue Words Flipped By Game</th>\n",
       "      <th>Average Bystander Words Flipped By Game</th>\n",
       "      <th>Average Assassin Words Flipped By Game</th>\n",
       "      <th>log(Average Assassin Words Flipped By Game + 1)</th>\n",
       "      <th>log(Average Win Time)</th>\n",
       "      <th>Win Rate^2</th>\n",
       "      <th>...</th>\n",
       "      <th>Average Bystander Words Flipped By Game^2</th>\n",
       "      <th>Average Bystander Words Flipped By Game Average Assassin Words Flipped By Game</th>\n",
       "      <th>Average Bystander Words Flipped By Game log(Average Assassin Words Flipped By Game + 1)</th>\n",
       "      <th>Average Bystander Words Flipped By Game log(Average Win Time)</th>\n",
       "      <th>Average Assassin Words Flipped By Game^2</th>\n",
       "      <th>Average Assassin Words Flipped By Game log(Average Assassin Words Flipped By Game + 1)</th>\n",
       "      <th>Average Assassin Words Flipped By Game log(Average Win Time)</th>\n",
       "      <th>log(Average Assassin Words Flipped By Game + 1)^2</th>\n",
       "      <th>log(Average Assassin Words Flipped By Game + 1) log(Average Win Time)</th>\n",
       "      <th>log(Average Win Time)^2</th>\n",
       "    </tr>\n",
       "  </thead>\n",
       "  <tbody>\n",
       "    <tr>\n",
       "      <th>0</th>\n",
       "      <td>0.881853</td>\n",
       "      <td>5.206639</td>\n",
       "      <td>3.224000</td>\n",
       "      <td>8.468587</td>\n",
       "      <td>0.886147</td>\n",
       "      <td>0.771053</td>\n",
       "      <td>0.118147</td>\n",
       "      <td>0.111673</td>\n",
       "      <td>1.649934</td>\n",
       "      <td>0.777665</td>\n",
       "      <td>...</td>\n",
       "      <td>0.594523</td>\n",
       "      <td>0.091097</td>\n",
       "      <td>0.086105</td>\n",
       "      <td>1.272187</td>\n",
       "      <td>0.013959</td>\n",
       "      <td>0.013194</td>\n",
       "      <td>0.194934</td>\n",
       "      <td>0.012471</td>\n",
       "      <td>0.184252</td>\n",
       "      <td>2.722284</td>\n",
       "    </tr>\n",
       "    <tr>\n",
       "      <th>1</th>\n",
       "      <td>0.777933</td>\n",
       "      <td>6.375741</td>\n",
       "      <td>3.725333</td>\n",
       "      <td>8.006267</td>\n",
       "      <td>1.532373</td>\n",
       "      <td>1.340773</td>\n",
       "      <td>0.221760</td>\n",
       "      <td>0.200292</td>\n",
       "      <td>1.852500</td>\n",
       "      <td>0.605180</td>\n",
       "      <td>...</td>\n",
       "      <td>1.797673</td>\n",
       "      <td>0.297330</td>\n",
       "      <td>0.268547</td>\n",
       "      <td>2.483783</td>\n",
       "      <td>0.049177</td>\n",
       "      <td>0.044417</td>\n",
       "      <td>0.410810</td>\n",
       "      <td>0.040117</td>\n",
       "      <td>0.371042</td>\n",
       "      <td>3.431757</td>\n",
       "    </tr>\n",
       "    <tr>\n",
       "      <th>2</th>\n",
       "      <td>0.957107</td>\n",
       "      <td>4.454772</td>\n",
       "      <td>2.930667</td>\n",
       "      <td>8.815560</td>\n",
       "      <td>0.327027</td>\n",
       "      <td>0.289000</td>\n",
       "      <td>0.042893</td>\n",
       "      <td>0.041999</td>\n",
       "      <td>1.493976</td>\n",
       "      <td>0.916053</td>\n",
       "      <td>...</td>\n",
       "      <td>0.083521</td>\n",
       "      <td>0.012396</td>\n",
       "      <td>0.012138</td>\n",
       "      <td>0.431759</td>\n",
       "      <td>0.001840</td>\n",
       "      <td>0.001801</td>\n",
       "      <td>0.064082</td>\n",
       "      <td>0.001764</td>\n",
       "      <td>0.062745</td>\n",
       "      <td>2.231964</td>\n",
       "    </tr>\n",
       "    <tr>\n",
       "      <th>3</th>\n",
       "      <td>0.880933</td>\n",
       "      <td>5.181492</td>\n",
       "      <td>3.180667</td>\n",
       "      <td>8.477400</td>\n",
       "      <td>0.889693</td>\n",
       "      <td>0.771133</td>\n",
       "      <td>0.119067</td>\n",
       "      <td>0.112495</td>\n",
       "      <td>1.645093</td>\n",
       "      <td>0.776044</td>\n",
       "      <td>...</td>\n",
       "      <td>0.594647</td>\n",
       "      <td>0.091816</td>\n",
       "      <td>0.086749</td>\n",
       "      <td>1.268586</td>\n",
       "      <td>0.014177</td>\n",
       "      <td>0.013394</td>\n",
       "      <td>0.195876</td>\n",
       "      <td>0.012655</td>\n",
       "      <td>0.185065</td>\n",
       "      <td>2.706331</td>\n",
       "    </tr>\n",
       "    <tr>\n",
       "      <th>4</th>\n",
       "      <td>0.857813</td>\n",
       "      <td>5.448871</td>\n",
       "      <td>3.323333</td>\n",
       "      <td>8.371160</td>\n",
       "      <td>1.060760</td>\n",
       "      <td>0.929627</td>\n",
       "      <td>0.142173</td>\n",
       "      <td>0.132933</td>\n",
       "      <td>1.695409</td>\n",
       "      <td>0.735844</td>\n",
       "      <td>...</td>\n",
       "      <td>0.864206</td>\n",
       "      <td>0.132168</td>\n",
       "      <td>0.123578</td>\n",
       "      <td>1.576097</td>\n",
       "      <td>0.020213</td>\n",
       "      <td>0.018900</td>\n",
       "      <td>0.241042</td>\n",
       "      <td>0.017671</td>\n",
       "      <td>0.225376</td>\n",
       "      <td>2.874410</td>\n",
       "    </tr>\n",
       "  </tbody>\n",
       "</table>\n",
       "<p>5 rows × 54 columns</p>\n",
       "</div>"
      ],
      "text/plain": [
       "   Win Rate  Average Win Time  Min Win Time  \\\n",
       "0  0.881853          5.206639      3.224000   \n",
       "1  0.777933          6.375741      3.725333   \n",
       "2  0.957107          4.454772      2.930667   \n",
       "3  0.880933          5.181492      3.180667   \n",
       "4  0.857813          5.448871      3.323333   \n",
       "\n",
       "   Average Red Words Flipped By Game  Average Blue Words Flipped By Game  \\\n",
       "0                           8.468587                            0.886147   \n",
       "1                           8.006267                            1.532373   \n",
       "2                           8.815560                            0.327027   \n",
       "3                           8.477400                            0.889693   \n",
       "4                           8.371160                            1.060760   \n",
       "\n",
       "   Average Bystander Words Flipped By Game  \\\n",
       "0                                 0.771053   \n",
       "1                                 1.340773   \n",
       "2                                 0.289000   \n",
       "3                                 0.771133   \n",
       "4                                 0.929627   \n",
       "\n",
       "   Average Assassin Words Flipped By Game  \\\n",
       "0                                0.118147   \n",
       "1                                0.221760   \n",
       "2                                0.042893   \n",
       "3                                0.119067   \n",
       "4                                0.142173   \n",
       "\n",
       "   log(Average Assassin Words Flipped By Game + 1)  log(Average Win Time)  \\\n",
       "0                                         0.111673               1.649934   \n",
       "1                                         0.200292               1.852500   \n",
       "2                                         0.041999               1.493976   \n",
       "3                                         0.112495               1.645093   \n",
       "4                                         0.132933               1.695409   \n",
       "\n",
       "   Win Rate^2  ...  Average Bystander Words Flipped By Game^2  \\\n",
       "0    0.777665  ...                                   0.594523   \n",
       "1    0.605180  ...                                   1.797673   \n",
       "2    0.916053  ...                                   0.083521   \n",
       "3    0.776044  ...                                   0.594647   \n",
       "4    0.735844  ...                                   0.864206   \n",
       "\n",
       "   Average Bystander Words Flipped By Game Average Assassin Words Flipped By Game  \\\n",
       "0                                           0.091097                                \n",
       "1                                           0.297330                                \n",
       "2                                           0.012396                                \n",
       "3                                           0.091816                                \n",
       "4                                           0.132168                                \n",
       "\n",
       "   Average Bystander Words Flipped By Game log(Average Assassin Words Flipped By Game + 1)  \\\n",
       "0                                           0.086105                                         \n",
       "1                                           0.268547                                         \n",
       "2                                           0.012138                                         \n",
       "3                                           0.086749                                         \n",
       "4                                           0.123578                                         \n",
       "\n",
       "   Average Bystander Words Flipped By Game log(Average Win Time)  \\\n",
       "0                                           1.272187               \n",
       "1                                           2.483783               \n",
       "2                                           0.431759               \n",
       "3                                           1.268586               \n",
       "4                                           1.576097               \n",
       "\n",
       "   Average Assassin Words Flipped By Game^2  \\\n",
       "0                                  0.013959   \n",
       "1                                  0.049177   \n",
       "2                                  0.001840   \n",
       "3                                  0.014177   \n",
       "4                                  0.020213   \n",
       "\n",
       "   Average Assassin Words Flipped By Game log(Average Assassin Words Flipped By Game + 1)  \\\n",
       "0                                           0.013194                                        \n",
       "1                                           0.044417                                        \n",
       "2                                           0.001801                                        \n",
       "3                                           0.013394                                        \n",
       "4                                           0.018900                                        \n",
       "\n",
       "   Average Assassin Words Flipped By Game log(Average Win Time)  \\\n",
       "0                                           0.194934              \n",
       "1                                           0.410810              \n",
       "2                                           0.064082              \n",
       "3                                           0.195876              \n",
       "4                                           0.241042              \n",
       "\n",
       "   log(Average Assassin Words Flipped By Game + 1)^2  \\\n",
       "0                                           0.012471   \n",
       "1                                           0.040117   \n",
       "2                                           0.001764   \n",
       "3                                           0.012655   \n",
       "4                                           0.017671   \n",
       "\n",
       "   log(Average Assassin Words Flipped By Game + 1) log(Average Win Time)  \\\n",
       "0                                           0.184252                       \n",
       "1                                           0.371042                       \n",
       "2                                           0.062745                       \n",
       "3                                           0.185065                       \n",
       "4                                           0.225376                       \n",
       "\n",
       "   log(Average Win Time)^2  \n",
       "0                 2.722284  \n",
       "1                 3.431757  \n",
       "2                 2.231964  \n",
       "3                 2.706331  \n",
       "4                 2.874410  \n",
       "\n",
       "[5 rows x 54 columns]"
      ]
     },
     "execution_count": 66,
     "metadata": {},
     "output_type": "execute_result"
    }
   ],
   "source": [
    "#Add all higher order terms\n",
    "\n",
    "poly = PolynomialFeatures(2)\n",
    "X_hot = poly.fit_transform(X)\n",
    "hot_names = poly.get_feature_names_out(X.columns)\n",
    "X_full = pd.DataFrame(X_hot,columns = hot_names)\n",
    "\n",
    "X_full = X_full.T.drop_duplicates().T\n",
    "X_full = X_full.dropna()\n",
    "X_full = X_full.drop(columns=['1'])\n",
    "\n",
    "X_full.head()"
   ]
  },
  {
   "cell_type": "code",
   "execution_count": 67,
   "metadata": {},
   "outputs": [],
   "source": [
    "from sklearn.preprocessing import PolynomialFeatures\n",
    "from sklearn.preprocessing import StandardScaler\n",
    "from sklearn.model_selection import train_test_split\n",
    "from sklearn.metrics import mean_squared_error, r2_score\n",
    "import statsmodels.api as sm"
   ]
  },
  {
   "cell_type": "code",
   "execution_count": 68,
   "metadata": {},
   "outputs": [],
   "source": [
    "#Scale the data \n",
    "X_scalar = StandardScaler()\n",
    "X_scalar.fit(X_full)\n",
    "scaled_X = pd.DataFrame(X_scalar.transform(X_full), columns=X_full.columns)\n",
    "\n",
    "y_scalar = StandardScaler()\n",
    "y_scalar.fit(y.values.reshape(-1, 1))\n",
    "scaled_y= pd.DataFrame(y_scalar.transform(y.values.reshape(-1, 1)), columns=[\"Final Pair Score\"])"
   ]
  },
  {
   "cell_type": "code",
   "execution_count": 69,
   "metadata": {},
   "outputs": [
    {
     "data": {
      "text/html": [
       "<div>\n",
       "<style scoped>\n",
       "    .dataframe tbody tr th:only-of-type {\n",
       "        vertical-align: middle;\n",
       "    }\n",
       "\n",
       "    .dataframe tbody tr th {\n",
       "        vertical-align: top;\n",
       "    }\n",
       "\n",
       "    .dataframe thead th {\n",
       "        text-align: right;\n",
       "    }\n",
       "</style>\n",
       "<table border=\"1\" class=\"dataframe\">\n",
       "  <thead>\n",
       "    <tr style=\"text-align: right;\">\n",
       "      <th></th>\n",
       "      <th>Win Rate</th>\n",
       "      <th>Average Win Time</th>\n",
       "      <th>Min Win Time</th>\n",
       "      <th>Average Red Words Flipped By Game</th>\n",
       "      <th>Average Blue Words Flipped By Game</th>\n",
       "      <th>Average Bystander Words Flipped By Game</th>\n",
       "      <th>Average Assassin Words Flipped By Game</th>\n",
       "      <th>log(Average Assassin Words Flipped By Game + 1)</th>\n",
       "      <th>log(Average Win Time)</th>\n",
       "      <th>Win Rate^2</th>\n",
       "      <th>...</th>\n",
       "      <th>Average Bystander Words Flipped By Game^2</th>\n",
       "      <th>Average Bystander Words Flipped By Game Average Assassin Words Flipped By Game</th>\n",
       "      <th>Average Bystander Words Flipped By Game log(Average Assassin Words Flipped By Game + 1)</th>\n",
       "      <th>Average Bystander Words Flipped By Game log(Average Win Time)</th>\n",
       "      <th>Average Assassin Words Flipped By Game^2</th>\n",
       "      <th>Average Assassin Words Flipped By Game log(Average Assassin Words Flipped By Game + 1)</th>\n",
       "      <th>Average Assassin Words Flipped By Game log(Average Win Time)</th>\n",
       "      <th>log(Average Assassin Words Flipped By Game + 1)^2</th>\n",
       "      <th>log(Average Assassin Words Flipped By Game + 1) log(Average Win Time)</th>\n",
       "      <th>log(Average Win Time)^2</th>\n",
       "    </tr>\n",
       "  </thead>\n",
       "  <tbody>\n",
       "    <tr>\n",
       "      <th>0</th>\n",
       "      <td>0.237863</td>\n",
       "      <td>-0.135324</td>\n",
       "      <td>-0.184390</td>\n",
       "      <td>0.202897</td>\n",
       "      <td>-0.165832</td>\n",
       "      <td>-0.176716</td>\n",
       "      <td>-0.236172</td>\n",
       "      <td>-0.197837</td>\n",
       "      <td>-0.045297</td>\n",
       "      <td>0.187402</td>\n",
       "      <td>...</td>\n",
       "      <td>-0.453166</td>\n",
       "      <td>-0.463720</td>\n",
       "      <td>-0.455745</td>\n",
       "      <td>-0.248774</td>\n",
       "      <td>-0.469350</td>\n",
       "      <td>-0.464425</td>\n",
       "      <td>-0.295958</td>\n",
       "      <td>-0.457621</td>\n",
       "      <td>-0.265383</td>\n",
       "      <td>-0.100623</td>\n",
       "    </tr>\n",
       "    <tr>\n",
       "      <th>1</th>\n",
       "      <td>-0.818956</td>\n",
       "      <td>1.056642</td>\n",
       "      <td>1.178795</td>\n",
       "      <td>-0.877033</td>\n",
       "      <td>0.847025</td>\n",
       "      <td>0.845858</td>\n",
       "      <td>0.823365</td>\n",
       "      <td>0.844791</td>\n",
       "      <td>1.056196</td>\n",
       "      <td>-0.854090</td>\n",
       "      <td>...</td>\n",
       "      <td>0.702142</td>\n",
       "      <td>0.648738</td>\n",
       "      <td>0.684424</td>\n",
       "      <td>0.862503</td>\n",
       "      <td>0.593410</td>\n",
       "      <td>0.629502</td>\n",
       "      <td>0.824960</td>\n",
       "      <td>0.665677</td>\n",
       "      <td>0.854153</td>\n",
       "      <td>1.062495</td>\n",
       "    </tr>\n",
       "    <tr>\n",
       "      <th>2</th>\n",
       "      <td>1.003156</td>\n",
       "      <td>-0.901895</td>\n",
       "      <td>-0.981998</td>\n",
       "      <td>1.013389</td>\n",
       "      <td>-1.042163</td>\n",
       "      <td>-1.041939</td>\n",
       "      <td>-1.005703</td>\n",
       "      <td>-1.017559</td>\n",
       "      <td>-0.893353</td>\n",
       "      <td>1.023009</td>\n",
       "      <td>...</td>\n",
       "      <td>-0.943849</td>\n",
       "      <td>-0.888250</td>\n",
       "      <td>-0.918008</td>\n",
       "      <td>-1.019616</td>\n",
       "      <td>-0.835045</td>\n",
       "      <td>-0.863562</td>\n",
       "      <td>-0.975399</td>\n",
       "      <td>-0.892652</td>\n",
       "      <td>-0.993645</td>\n",
       "      <td>-0.904458</td>\n",
       "    </tr>\n",
       "    <tr>\n",
       "      <th>3</th>\n",
       "      <td>0.228507</td>\n",
       "      <td>-0.160963</td>\n",
       "      <td>-0.302218</td>\n",
       "      <td>0.223484</td>\n",
       "      <td>-0.160273</td>\n",
       "      <td>-0.176572</td>\n",
       "      <td>-0.226764</td>\n",
       "      <td>-0.188161</td>\n",
       "      <td>-0.071624</td>\n",
       "      <td>0.177609</td>\n",
       "      <td>...</td>\n",
       "      <td>-0.453048</td>\n",
       "      <td>-0.459842</td>\n",
       "      <td>-0.451726</td>\n",
       "      <td>-0.252077</td>\n",
       "      <td>-0.462765</td>\n",
       "      <td>-0.457394</td>\n",
       "      <td>-0.291069</td>\n",
       "      <td>-0.450130</td>\n",
       "      <td>-0.260514</td>\n",
       "      <td>-0.126776</td>\n",
       "    </tr>\n",
       "    <tr>\n",
       "      <th>4</th>\n",
       "      <td>-0.006613</td>\n",
       "      <td>0.111646</td>\n",
       "      <td>0.085709</td>\n",
       "      <td>-0.024681</td>\n",
       "      <td>0.107847</td>\n",
       "      <td>0.107903</td>\n",
       "      <td>0.009522</td>\n",
       "      <td>0.052294</td>\n",
       "      <td>0.201977</td>\n",
       "      <td>-0.065123</td>\n",
       "      <td>...</td>\n",
       "      <td>-0.194207</td>\n",
       "      <td>-0.242177</td>\n",
       "      <td>-0.221561</td>\n",
       "      <td>0.029972</td>\n",
       "      <td>-0.280611</td>\n",
       "      <td>-0.264519</td>\n",
       "      <td>-0.056548</td>\n",
       "      <td>-0.246324</td>\n",
       "      <td>-0.018909</td>\n",
       "      <td>0.148774</td>\n",
       "    </tr>\n",
       "  </tbody>\n",
       "</table>\n",
       "<p>5 rows × 54 columns</p>\n",
       "</div>"
      ],
      "text/plain": [
       "   Win Rate  Average Win Time  Min Win Time  \\\n",
       "0  0.237863         -0.135324     -0.184390   \n",
       "1 -0.818956          1.056642      1.178795   \n",
       "2  1.003156         -0.901895     -0.981998   \n",
       "3  0.228507         -0.160963     -0.302218   \n",
       "4 -0.006613          0.111646      0.085709   \n",
       "\n",
       "   Average Red Words Flipped By Game  Average Blue Words Flipped By Game  \\\n",
       "0                           0.202897                           -0.165832   \n",
       "1                          -0.877033                            0.847025   \n",
       "2                           1.013389                           -1.042163   \n",
       "3                           0.223484                           -0.160273   \n",
       "4                          -0.024681                            0.107847   \n",
       "\n",
       "   Average Bystander Words Flipped By Game  \\\n",
       "0                                -0.176716   \n",
       "1                                 0.845858   \n",
       "2                                -1.041939   \n",
       "3                                -0.176572   \n",
       "4                                 0.107903   \n",
       "\n",
       "   Average Assassin Words Flipped By Game  \\\n",
       "0                               -0.236172   \n",
       "1                                0.823365   \n",
       "2                               -1.005703   \n",
       "3                               -0.226764   \n",
       "4                                0.009522   \n",
       "\n",
       "   log(Average Assassin Words Flipped By Game + 1)  log(Average Win Time)  \\\n",
       "0                                        -0.197837              -0.045297   \n",
       "1                                         0.844791               1.056196   \n",
       "2                                        -1.017559              -0.893353   \n",
       "3                                        -0.188161              -0.071624   \n",
       "4                                         0.052294               0.201977   \n",
       "\n",
       "   Win Rate^2  ...  Average Bystander Words Flipped By Game^2  \\\n",
       "0    0.187402  ...                                  -0.453166   \n",
       "1   -0.854090  ...                                   0.702142   \n",
       "2    1.023009  ...                                  -0.943849   \n",
       "3    0.177609  ...                                  -0.453048   \n",
       "4   -0.065123  ...                                  -0.194207   \n",
       "\n",
       "   Average Bystander Words Flipped By Game Average Assassin Words Flipped By Game  \\\n",
       "0                                          -0.463720                                \n",
       "1                                           0.648738                                \n",
       "2                                          -0.888250                                \n",
       "3                                          -0.459842                                \n",
       "4                                          -0.242177                                \n",
       "\n",
       "   Average Bystander Words Flipped By Game log(Average Assassin Words Flipped By Game + 1)  \\\n",
       "0                                          -0.455745                                         \n",
       "1                                           0.684424                                         \n",
       "2                                          -0.918008                                         \n",
       "3                                          -0.451726                                         \n",
       "4                                          -0.221561                                         \n",
       "\n",
       "   Average Bystander Words Flipped By Game log(Average Win Time)  \\\n",
       "0                                          -0.248774               \n",
       "1                                           0.862503               \n",
       "2                                          -1.019616               \n",
       "3                                          -0.252077               \n",
       "4                                           0.029972               \n",
       "\n",
       "   Average Assassin Words Flipped By Game^2  \\\n",
       "0                                 -0.469350   \n",
       "1                                  0.593410   \n",
       "2                                 -0.835045   \n",
       "3                                 -0.462765   \n",
       "4                                 -0.280611   \n",
       "\n",
       "   Average Assassin Words Flipped By Game log(Average Assassin Words Flipped By Game + 1)  \\\n",
       "0                                          -0.464425                                        \n",
       "1                                           0.629502                                        \n",
       "2                                          -0.863562                                        \n",
       "3                                          -0.457394                                        \n",
       "4                                          -0.264519                                        \n",
       "\n",
       "   Average Assassin Words Flipped By Game log(Average Win Time)  \\\n",
       "0                                          -0.295958              \n",
       "1                                           0.824960              \n",
       "2                                          -0.975399              \n",
       "3                                          -0.291069              \n",
       "4                                          -0.056548              \n",
       "\n",
       "   log(Average Assassin Words Flipped By Game + 1)^2  \\\n",
       "0                                          -0.457621   \n",
       "1                                           0.665677   \n",
       "2                                          -0.892652   \n",
       "3                                          -0.450130   \n",
       "4                                          -0.246324   \n",
       "\n",
       "   log(Average Assassin Words Flipped By Game + 1) log(Average Win Time)  \\\n",
       "0                                          -0.265383                       \n",
       "1                                           0.854153                       \n",
       "2                                          -0.993645                       \n",
       "3                                          -0.260514                       \n",
       "4                                          -0.018909                       \n",
       "\n",
       "   log(Average Win Time)^2  \n",
       "0                -0.100623  \n",
       "1                 1.062495  \n",
       "2                -0.904458  \n",
       "3                -0.126776  \n",
       "4                 0.148774  \n",
       "\n",
       "[5 rows x 54 columns]"
      ]
     },
     "execution_count": 69,
     "metadata": {},
     "output_type": "execute_result"
    }
   ],
   "source": [
    "scaled_X.head()"
   ]
  },
  {
   "cell_type": "code",
   "execution_count": 70,
   "metadata": {},
   "outputs": [
    {
     "data": {
      "text/html": [
       "<div>\n",
       "<style scoped>\n",
       "    .dataframe tbody tr th:only-of-type {\n",
       "        vertical-align: middle;\n",
       "    }\n",
       "\n",
       "    .dataframe tbody tr th {\n",
       "        vertical-align: top;\n",
       "    }\n",
       "\n",
       "    .dataframe thead th {\n",
       "        text-align: right;\n",
       "    }\n",
       "</style>\n",
       "<table border=\"1\" class=\"dataframe\">\n",
       "  <thead>\n",
       "    <tr style=\"text-align: right;\">\n",
       "      <th></th>\n",
       "      <th>Final Pair Score</th>\n",
       "    </tr>\n",
       "  </thead>\n",
       "  <tbody>\n",
       "    <tr>\n",
       "      <th>0</th>\n",
       "      <td>0.170852</td>\n",
       "    </tr>\n",
       "    <tr>\n",
       "      <th>1</th>\n",
       "      <td>-0.867766</td>\n",
       "    </tr>\n",
       "    <tr>\n",
       "      <th>2</th>\n",
       "      <td>1.059120</td>\n",
       "    </tr>\n",
       "    <tr>\n",
       "      <th>3</th>\n",
       "      <td>0.176237</td>\n",
       "    </tr>\n",
       "    <tr>\n",
       "      <th>4</th>\n",
       "      <td>-0.091868</td>\n",
       "    </tr>\n",
       "  </tbody>\n",
       "</table>\n",
       "</div>"
      ],
      "text/plain": [
       "   Final Pair Score\n",
       "0          0.170852\n",
       "1         -0.867766\n",
       "2          1.059120\n",
       "3          0.176237\n",
       "4         -0.091868"
      ]
     },
     "execution_count": 70,
     "metadata": {},
     "output_type": "execute_result"
    }
   ],
   "source": [
    "scaled_y[:5]"
   ]
  },
  {
   "cell_type": "code",
   "execution_count": 71,
   "metadata": {},
   "outputs": [],
   "source": [
    "scaled_X = sm.add_constant(scaled_X)"
   ]
  },
  {
   "cell_type": "code",
   "execution_count": 72,
   "metadata": {},
   "outputs": [
    {
     "data": {
      "text/html": [
       "<div>\n",
       "<style scoped>\n",
       "    .dataframe tbody tr th:only-of-type {\n",
       "        vertical-align: middle;\n",
       "    }\n",
       "\n",
       "    .dataframe tbody tr th {\n",
       "        vertical-align: top;\n",
       "    }\n",
       "\n",
       "    .dataframe thead th {\n",
       "        text-align: right;\n",
       "    }\n",
       "</style>\n",
       "<table border=\"1\" class=\"dataframe\">\n",
       "  <thead>\n",
       "    <tr style=\"text-align: right;\">\n",
       "      <th></th>\n",
       "      <th>const</th>\n",
       "      <th>Win Rate</th>\n",
       "      <th>Average Win Time</th>\n",
       "      <th>Min Win Time</th>\n",
       "      <th>Average Red Words Flipped By Game</th>\n",
       "      <th>Average Blue Words Flipped By Game</th>\n",
       "      <th>Average Bystander Words Flipped By Game</th>\n",
       "      <th>Average Assassin Words Flipped By Game</th>\n",
       "      <th>log(Average Assassin Words Flipped By Game + 1)</th>\n",
       "      <th>log(Average Win Time)</th>\n",
       "      <th>...</th>\n",
       "      <th>Average Bystander Words Flipped By Game^2</th>\n",
       "      <th>Average Bystander Words Flipped By Game Average Assassin Words Flipped By Game</th>\n",
       "      <th>Average Bystander Words Flipped By Game log(Average Assassin Words Flipped By Game + 1)</th>\n",
       "      <th>Average Bystander Words Flipped By Game log(Average Win Time)</th>\n",
       "      <th>Average Assassin Words Flipped By Game^2</th>\n",
       "      <th>Average Assassin Words Flipped By Game log(Average Assassin Words Flipped By Game + 1)</th>\n",
       "      <th>Average Assassin Words Flipped By Game log(Average Win Time)</th>\n",
       "      <th>log(Average Assassin Words Flipped By Game + 1)^2</th>\n",
       "      <th>log(Average Assassin Words Flipped By Game + 1) log(Average Win Time)</th>\n",
       "      <th>log(Average Win Time)^2</th>\n",
       "    </tr>\n",
       "  </thead>\n",
       "  <tbody>\n",
       "    <tr>\n",
       "      <th>0</th>\n",
       "      <td>1.0</td>\n",
       "      <td>0.237863</td>\n",
       "      <td>-0.135324</td>\n",
       "      <td>-0.184390</td>\n",
       "      <td>0.202897</td>\n",
       "      <td>-0.165832</td>\n",
       "      <td>-0.176716</td>\n",
       "      <td>-0.236172</td>\n",
       "      <td>-0.197837</td>\n",
       "      <td>-0.045297</td>\n",
       "      <td>...</td>\n",
       "      <td>-0.453166</td>\n",
       "      <td>-0.463720</td>\n",
       "      <td>-0.455745</td>\n",
       "      <td>-0.248774</td>\n",
       "      <td>-0.469350</td>\n",
       "      <td>-0.464425</td>\n",
       "      <td>-0.295958</td>\n",
       "      <td>-0.457621</td>\n",
       "      <td>-0.265383</td>\n",
       "      <td>-0.100623</td>\n",
       "    </tr>\n",
       "    <tr>\n",
       "      <th>1</th>\n",
       "      <td>1.0</td>\n",
       "      <td>-0.818956</td>\n",
       "      <td>1.056642</td>\n",
       "      <td>1.178795</td>\n",
       "      <td>-0.877033</td>\n",
       "      <td>0.847025</td>\n",
       "      <td>0.845858</td>\n",
       "      <td>0.823365</td>\n",
       "      <td>0.844791</td>\n",
       "      <td>1.056196</td>\n",
       "      <td>...</td>\n",
       "      <td>0.702142</td>\n",
       "      <td>0.648738</td>\n",
       "      <td>0.684424</td>\n",
       "      <td>0.862503</td>\n",
       "      <td>0.593410</td>\n",
       "      <td>0.629502</td>\n",
       "      <td>0.824960</td>\n",
       "      <td>0.665677</td>\n",
       "      <td>0.854153</td>\n",
       "      <td>1.062495</td>\n",
       "    </tr>\n",
       "    <tr>\n",
       "      <th>2</th>\n",
       "      <td>1.0</td>\n",
       "      <td>1.003156</td>\n",
       "      <td>-0.901895</td>\n",
       "      <td>-0.981998</td>\n",
       "      <td>1.013389</td>\n",
       "      <td>-1.042163</td>\n",
       "      <td>-1.041939</td>\n",
       "      <td>-1.005703</td>\n",
       "      <td>-1.017559</td>\n",
       "      <td>-0.893353</td>\n",
       "      <td>...</td>\n",
       "      <td>-0.943849</td>\n",
       "      <td>-0.888250</td>\n",
       "      <td>-0.918008</td>\n",
       "      <td>-1.019616</td>\n",
       "      <td>-0.835045</td>\n",
       "      <td>-0.863562</td>\n",
       "      <td>-0.975399</td>\n",
       "      <td>-0.892652</td>\n",
       "      <td>-0.993645</td>\n",
       "      <td>-0.904458</td>\n",
       "    </tr>\n",
       "    <tr>\n",
       "      <th>3</th>\n",
       "      <td>1.0</td>\n",
       "      <td>0.228507</td>\n",
       "      <td>-0.160963</td>\n",
       "      <td>-0.302218</td>\n",
       "      <td>0.223484</td>\n",
       "      <td>-0.160273</td>\n",
       "      <td>-0.176572</td>\n",
       "      <td>-0.226764</td>\n",
       "      <td>-0.188161</td>\n",
       "      <td>-0.071624</td>\n",
       "      <td>...</td>\n",
       "      <td>-0.453048</td>\n",
       "      <td>-0.459842</td>\n",
       "      <td>-0.451726</td>\n",
       "      <td>-0.252077</td>\n",
       "      <td>-0.462765</td>\n",
       "      <td>-0.457394</td>\n",
       "      <td>-0.291069</td>\n",
       "      <td>-0.450130</td>\n",
       "      <td>-0.260514</td>\n",
       "      <td>-0.126776</td>\n",
       "    </tr>\n",
       "    <tr>\n",
       "      <th>4</th>\n",
       "      <td>1.0</td>\n",
       "      <td>-0.006613</td>\n",
       "      <td>0.111646</td>\n",
       "      <td>0.085709</td>\n",
       "      <td>-0.024681</td>\n",
       "      <td>0.107847</td>\n",
       "      <td>0.107903</td>\n",
       "      <td>0.009522</td>\n",
       "      <td>0.052294</td>\n",
       "      <td>0.201977</td>\n",
       "      <td>...</td>\n",
       "      <td>-0.194207</td>\n",
       "      <td>-0.242177</td>\n",
       "      <td>-0.221561</td>\n",
       "      <td>0.029972</td>\n",
       "      <td>-0.280611</td>\n",
       "      <td>-0.264519</td>\n",
       "      <td>-0.056548</td>\n",
       "      <td>-0.246324</td>\n",
       "      <td>-0.018909</td>\n",
       "      <td>0.148774</td>\n",
       "    </tr>\n",
       "  </tbody>\n",
       "</table>\n",
       "<p>5 rows × 55 columns</p>\n",
       "</div>"
      ],
      "text/plain": [
       "   const  Win Rate  Average Win Time  Min Win Time  \\\n",
       "0    1.0  0.237863         -0.135324     -0.184390   \n",
       "1    1.0 -0.818956          1.056642      1.178795   \n",
       "2    1.0  1.003156         -0.901895     -0.981998   \n",
       "3    1.0  0.228507         -0.160963     -0.302218   \n",
       "4    1.0 -0.006613          0.111646      0.085709   \n",
       "\n",
       "   Average Red Words Flipped By Game  Average Blue Words Flipped By Game  \\\n",
       "0                           0.202897                           -0.165832   \n",
       "1                          -0.877033                            0.847025   \n",
       "2                           1.013389                           -1.042163   \n",
       "3                           0.223484                           -0.160273   \n",
       "4                          -0.024681                            0.107847   \n",
       "\n",
       "   Average Bystander Words Flipped By Game  \\\n",
       "0                                -0.176716   \n",
       "1                                 0.845858   \n",
       "2                                -1.041939   \n",
       "3                                -0.176572   \n",
       "4                                 0.107903   \n",
       "\n",
       "   Average Assassin Words Flipped By Game  \\\n",
       "0                               -0.236172   \n",
       "1                                0.823365   \n",
       "2                               -1.005703   \n",
       "3                               -0.226764   \n",
       "4                                0.009522   \n",
       "\n",
       "   log(Average Assassin Words Flipped By Game + 1)  log(Average Win Time)  \\\n",
       "0                                        -0.197837              -0.045297   \n",
       "1                                         0.844791               1.056196   \n",
       "2                                        -1.017559              -0.893353   \n",
       "3                                        -0.188161              -0.071624   \n",
       "4                                         0.052294               0.201977   \n",
       "\n",
       "   ...  Average Bystander Words Flipped By Game^2  \\\n",
       "0  ...                                  -0.453166   \n",
       "1  ...                                   0.702142   \n",
       "2  ...                                  -0.943849   \n",
       "3  ...                                  -0.453048   \n",
       "4  ...                                  -0.194207   \n",
       "\n",
       "   Average Bystander Words Flipped By Game Average Assassin Words Flipped By Game  \\\n",
       "0                                          -0.463720                                \n",
       "1                                           0.648738                                \n",
       "2                                          -0.888250                                \n",
       "3                                          -0.459842                                \n",
       "4                                          -0.242177                                \n",
       "\n",
       "   Average Bystander Words Flipped By Game log(Average Assassin Words Flipped By Game + 1)  \\\n",
       "0                                          -0.455745                                         \n",
       "1                                           0.684424                                         \n",
       "2                                          -0.918008                                         \n",
       "3                                          -0.451726                                         \n",
       "4                                          -0.221561                                         \n",
       "\n",
       "   Average Bystander Words Flipped By Game log(Average Win Time)  \\\n",
       "0                                          -0.248774               \n",
       "1                                           0.862503               \n",
       "2                                          -1.019616               \n",
       "3                                          -0.252077               \n",
       "4                                           0.029972               \n",
       "\n",
       "   Average Assassin Words Flipped By Game^2  \\\n",
       "0                                 -0.469350   \n",
       "1                                  0.593410   \n",
       "2                                 -0.835045   \n",
       "3                                 -0.462765   \n",
       "4                                 -0.280611   \n",
       "\n",
       "   Average Assassin Words Flipped By Game log(Average Assassin Words Flipped By Game + 1)  \\\n",
       "0                                          -0.464425                                        \n",
       "1                                           0.629502                                        \n",
       "2                                          -0.863562                                        \n",
       "3                                          -0.457394                                        \n",
       "4                                          -0.264519                                        \n",
       "\n",
       "   Average Assassin Words Flipped By Game log(Average Win Time)  \\\n",
       "0                                          -0.295958              \n",
       "1                                           0.824960              \n",
       "2                                          -0.975399              \n",
       "3                                          -0.291069              \n",
       "4                                          -0.056548              \n",
       "\n",
       "   log(Average Assassin Words Flipped By Game + 1)^2  \\\n",
       "0                                          -0.457621   \n",
       "1                                           0.665677   \n",
       "2                                          -0.892652   \n",
       "3                                          -0.450130   \n",
       "4                                          -0.246324   \n",
       "\n",
       "   log(Average Assassin Words Flipped By Game + 1) log(Average Win Time)  \\\n",
       "0                                          -0.265383                       \n",
       "1                                           0.854153                       \n",
       "2                                          -0.993645                       \n",
       "3                                          -0.260514                       \n",
       "4                                          -0.018909                       \n",
       "\n",
       "   log(Average Win Time)^2  \n",
       "0                -0.100623  \n",
       "1                 1.062495  \n",
       "2                -0.904458  \n",
       "3                -0.126776  \n",
       "4                 0.148774  \n",
       "\n",
       "[5 rows x 55 columns]"
      ]
     },
     "execution_count": 72,
     "metadata": {},
     "output_type": "execute_result"
    }
   ],
   "source": [
    "#We now have all of the data transformations we could possibly want\n",
    "scaled_X.head()"
   ]
  },
  {
   "cell_type": "code",
   "execution_count": 73,
   "metadata": {},
   "outputs": [],
   "source": [
    "#get a holdout set so we can see if the features we select are good or not\n",
    "X_train, X_test, y_train, y_test = train_test_split(scaled_X, scaled_y, test_size=.2, random_state=1234)"
   ]
  },
  {
   "attachments": {},
   "cell_type": "markdown",
   "metadata": {},
   "source": [
    "## Feature Selection"
   ]
  },
  {
   "cell_type": "code",
   "execution_count": 74,
   "metadata": {},
   "outputs": [],
   "source": [
    "import copy"
   ]
  },
  {
   "cell_type": "code",
   "execution_count": 75,
   "metadata": {},
   "outputs": [],
   "source": [
    "def pval_selection(curr_cols):\n",
    "    curr_cols = copy.deepcopy(curr_cols)\n",
    "    curr_model = sm.OLS(y_train, X_train[curr_cols]).fit()\n",
    "\n",
    "    while(max(curr_model.pvalues[1:]) > 0.05 and len(curr_cols) > 1):\n",
    "        max_pvalue_ind = np.argmax(curr_model.pvalues[1:])+1\n",
    "        del curr_cols[max_pvalue_ind]\n",
    "        curr_model = sm.OLS(y_train, X_train[curr_cols]).fit()\n",
    "\n",
    "    return curr_model, curr_cols"
   ]
  },
  {
   "cell_type": "code",
   "execution_count": 76,
   "metadata": {},
   "outputs": [
    {
     "data": {
      "text/plain": [
       "3"
      ]
     },
     "execution_count": 76,
     "metadata": {},
     "output_type": "execute_result"
    }
   ],
   "source": [
    "list(scaled_X.columns).index(\"Min Win Time\")"
   ]
  },
  {
   "cell_type": "code",
   "execution_count": 77,
   "metadata": {},
   "outputs": [],
   "source": [
    "base_cols = list(scaled_X.columns[:8])\n",
    "full_cols = list(scaled_X.columns)\n",
    "base_log_cols = copy.deepcopy(base_cols)\n",
    "base_log_cols[base_log_cols.index(\"Average Win Time\")] = full_cols[full_cols.index(\"log(Average Win Time)\")]\n",
    "base_log_cols[base_log_cols.index(\"Average Assassin Words Flipped By Game\")] = full_cols[full_cols.index(\"log(Average Assassin Words Flipped By Game + 1)\")]"
   ]
  },
  {
   "cell_type": "code",
   "execution_count": 78,
   "metadata": {},
   "outputs": [
    {
     "data": {
      "text/html": [
       "<div>\n",
       "<style scoped>\n",
       "    .dataframe tbody tr th:only-of-type {\n",
       "        vertical-align: middle;\n",
       "    }\n",
       "\n",
       "    .dataframe tbody tr th {\n",
       "        vertical-align: top;\n",
       "    }\n",
       "\n",
       "    .dataframe thead th {\n",
       "        text-align: right;\n",
       "    }\n",
       "</style>\n",
       "<table border=\"1\" class=\"dataframe\">\n",
       "  <thead>\n",
       "    <tr style=\"text-align: right;\">\n",
       "      <th></th>\n",
       "      <th>const</th>\n",
       "      <th>Win Rate</th>\n",
       "      <th>log(Average Win Time)</th>\n",
       "      <th>Min Win Time</th>\n",
       "      <th>Average Red Words Flipped By Game</th>\n",
       "      <th>Average Blue Words Flipped By Game</th>\n",
       "      <th>Average Bystander Words Flipped By Game</th>\n",
       "      <th>log(Average Assassin Words Flipped By Game + 1)</th>\n",
       "    </tr>\n",
       "  </thead>\n",
       "  <tbody>\n",
       "    <tr>\n",
       "      <th>0</th>\n",
       "      <td>1.0</td>\n",
       "      <td>0.237863</td>\n",
       "      <td>-0.045297</td>\n",
       "      <td>-0.184390</td>\n",
       "      <td>0.202897</td>\n",
       "      <td>-0.165832</td>\n",
       "      <td>-0.176716</td>\n",
       "      <td>-0.197837</td>\n",
       "    </tr>\n",
       "    <tr>\n",
       "      <th>1</th>\n",
       "      <td>1.0</td>\n",
       "      <td>-0.818956</td>\n",
       "      <td>1.056196</td>\n",
       "      <td>1.178795</td>\n",
       "      <td>-0.877033</td>\n",
       "      <td>0.847025</td>\n",
       "      <td>0.845858</td>\n",
       "      <td>0.844791</td>\n",
       "    </tr>\n",
       "    <tr>\n",
       "      <th>2</th>\n",
       "      <td>1.0</td>\n",
       "      <td>1.003156</td>\n",
       "      <td>-0.893353</td>\n",
       "      <td>-0.981998</td>\n",
       "      <td>1.013389</td>\n",
       "      <td>-1.042163</td>\n",
       "      <td>-1.041939</td>\n",
       "      <td>-1.017559</td>\n",
       "    </tr>\n",
       "    <tr>\n",
       "      <th>3</th>\n",
       "      <td>1.0</td>\n",
       "      <td>0.228507</td>\n",
       "      <td>-0.071624</td>\n",
       "      <td>-0.302218</td>\n",
       "      <td>0.223484</td>\n",
       "      <td>-0.160273</td>\n",
       "      <td>-0.176572</td>\n",
       "      <td>-0.188161</td>\n",
       "    </tr>\n",
       "    <tr>\n",
       "      <th>4</th>\n",
       "      <td>1.0</td>\n",
       "      <td>-0.006613</td>\n",
       "      <td>0.201977</td>\n",
       "      <td>0.085709</td>\n",
       "      <td>-0.024681</td>\n",
       "      <td>0.107847</td>\n",
       "      <td>0.107903</td>\n",
       "      <td>0.052294</td>\n",
       "    </tr>\n",
       "  </tbody>\n",
       "</table>\n",
       "</div>"
      ],
      "text/plain": [
       "   const  Win Rate  log(Average Win Time)  Min Win Time  \\\n",
       "0    1.0  0.237863              -0.045297     -0.184390   \n",
       "1    1.0 -0.818956               1.056196      1.178795   \n",
       "2    1.0  1.003156              -0.893353     -0.981998   \n",
       "3    1.0  0.228507              -0.071624     -0.302218   \n",
       "4    1.0 -0.006613               0.201977      0.085709   \n",
       "\n",
       "   Average Red Words Flipped By Game  Average Blue Words Flipped By Game  \\\n",
       "0                           0.202897                           -0.165832   \n",
       "1                          -0.877033                            0.847025   \n",
       "2                           1.013389                           -1.042163   \n",
       "3                           0.223484                           -0.160273   \n",
       "4                          -0.024681                            0.107847   \n",
       "\n",
       "   Average Bystander Words Flipped By Game  \\\n",
       "0                                -0.176716   \n",
       "1                                 0.845858   \n",
       "2                                -1.041939   \n",
       "3                                -0.176572   \n",
       "4                                 0.107903   \n",
       "\n",
       "   log(Average Assassin Words Flipped By Game + 1)  \n",
       "0                                        -0.197837  \n",
       "1                                         0.844791  \n",
       "2                                        -1.017559  \n",
       "3                                        -0.188161  \n",
       "4                                         0.052294  "
      ]
     },
     "execution_count": 78,
     "metadata": {},
     "output_type": "execute_result"
    }
   ],
   "source": [
    "scaled_X[base_log_cols].head()"
   ]
  },
  {
   "cell_type": "code",
   "execution_count": 79,
   "metadata": {},
   "outputs": [
    {
     "data": {
      "text/html": [
       "<table class=\"simpletable\">\n",
       "<caption>OLS Regression Results</caption>\n",
       "<tr>\n",
       "  <th>Dep. Variable:</th>    <td>Final Pair Score</td> <th>  R-squared:         </th> <td>   0.999</td> \n",
       "</tr>\n",
       "<tr>\n",
       "  <th>Model:</th>                   <td>OLS</td>       <th>  Adj. R-squared:    </th> <td>   0.999</td> \n",
       "</tr>\n",
       "<tr>\n",
       "  <th>Method:</th>             <td>Least Squares</td>  <th>  F-statistic:       </th> <td>1.704e+04</td>\n",
       "</tr>\n",
       "<tr>\n",
       "  <th>Date:</th>             <td>Thu, 15 Jun 2023</td> <th>  Prob (F-statistic):</th> <td>1.12e-124</td>\n",
       "</tr>\n",
       "<tr>\n",
       "  <th>Time:</th>                 <td>16:47:49</td>     <th>  Log-Likelihood:    </th> <td>  189.07</td> \n",
       "</tr>\n",
       "<tr>\n",
       "  <th>No. Observations:</th>      <td>    90</td>      <th>  AIC:               </th> <td>  -366.1</td> \n",
       "</tr>\n",
       "<tr>\n",
       "  <th>Df Residuals:</th>          <td>    84</td>      <th>  BIC:               </th> <td>  -351.1</td> \n",
       "</tr>\n",
       "<tr>\n",
       "  <th>Df Model:</th>              <td>     5</td>      <th>                     </th>     <td> </td>    \n",
       "</tr>\n",
       "<tr>\n",
       "  <th>Covariance Type:</th>      <td>nonrobust</td>    <th>                     </th>     <td> </td>    \n",
       "</tr>\n",
       "</table>\n",
       "<table class=\"simpletable\">\n",
       "<tr>\n",
       "                     <td></td>                        <th>coef</th>     <th>std err</th>      <th>t</th>      <th>P>|t|</th>  <th>[0.025</th>    <th>0.975]</th>  \n",
       "</tr>\n",
       "<tr>\n",
       "  <th>const</th>                                   <td>    0.0012</td> <td>    0.003</td> <td>    0.363</td> <td> 0.718</td> <td>   -0.005</td> <td>    0.008</td>\n",
       "</tr>\n",
       "<tr>\n",
       "  <th>Win Rate</th>                                <td>   -5.5479</td> <td>    1.408</td> <td>   -3.941</td> <td> 0.000</td> <td>   -8.347</td> <td>   -2.748</td>\n",
       "</tr>\n",
       "<tr>\n",
       "  <th>Average Win Time</th>                        <td>   -0.1207</td> <td>    0.032</td> <td>   -3.793</td> <td> 0.000</td> <td>   -0.184</td> <td>   -0.057</td>\n",
       "</tr>\n",
       "<tr>\n",
       "  <th>Min Win Time</th>                            <td>    0.1087</td> <td>    0.018</td> <td>    6.043</td> <td> 0.000</td> <td>    0.073</td> <td>    0.144</td>\n",
       "</tr>\n",
       "<tr>\n",
       "  <th>Average Bystander Words Flipped By Game</th> <td>   -1.0080</td> <td>    0.094</td> <td>  -10.756</td> <td> 0.000</td> <td>   -1.194</td> <td>   -0.822</td>\n",
       "</tr>\n",
       "<tr>\n",
       "  <th>Average Assassin Words Flipped By Game</th>  <td>   -5.5178</td> <td>    1.488</td> <td>   -3.709</td> <td> 0.000</td> <td>   -8.476</td> <td>   -2.560</td>\n",
       "</tr>\n",
       "</table>\n",
       "<table class=\"simpletable\">\n",
       "<tr>\n",
       "  <th>Omnibus:</th>       <td> 2.537</td> <th>  Durbin-Watson:     </th> <td>   2.005</td>\n",
       "</tr>\n",
       "<tr>\n",
       "  <th>Prob(Omnibus):</th> <td> 0.281</td> <th>  Jarque-Bera (JB):  </th> <td>   2.344</td>\n",
       "</tr>\n",
       "<tr>\n",
       "  <th>Skew:</th>          <td>-0.393</td> <th>  Prob(JB):          </th> <td>   0.310</td>\n",
       "</tr>\n",
       "<tr>\n",
       "  <th>Kurtosis:</th>      <td> 2.921</td> <th>  Cond. No.          </th> <td>1.36e+03</td>\n",
       "</tr>\n",
       "</table><br/><br/>Notes:<br/>[1] Standard Errors assume that the covariance matrix of the errors is correctly specified.<br/>[2] The condition number is large, 1.36e+03. This might indicate that there are<br/>strong multicollinearity or other numerical problems."
      ],
      "text/plain": [
       "<class 'statsmodels.iolib.summary.Summary'>\n",
       "\"\"\"\n",
       "                            OLS Regression Results                            \n",
       "==============================================================================\n",
       "Dep. Variable:       Final Pair Score   R-squared:                       0.999\n",
       "Model:                            OLS   Adj. R-squared:                  0.999\n",
       "Method:                 Least Squares   F-statistic:                 1.704e+04\n",
       "Date:                Thu, 15 Jun 2023   Prob (F-statistic):          1.12e-124\n",
       "Time:                        16:47:49   Log-Likelihood:                 189.07\n",
       "No. Observations:                  90   AIC:                            -366.1\n",
       "Df Residuals:                      84   BIC:                            -351.1\n",
       "Df Model:                           5                                         \n",
       "Covariance Type:            nonrobust                                         \n",
       "===========================================================================================================\n",
       "                                              coef    std err          t      P>|t|      [0.025      0.975]\n",
       "-----------------------------------------------------------------------------------------------------------\n",
       "const                                       0.0012      0.003      0.363      0.718      -0.005       0.008\n",
       "Win Rate                                   -5.5479      1.408     -3.941      0.000      -8.347      -2.748\n",
       "Average Win Time                           -0.1207      0.032     -3.793      0.000      -0.184      -0.057\n",
       "Min Win Time                                0.1087      0.018      6.043      0.000       0.073       0.144\n",
       "Average Bystander Words Flipped By Game    -1.0080      0.094    -10.756      0.000      -1.194      -0.822\n",
       "Average Assassin Words Flipped By Game     -5.5178      1.488     -3.709      0.000      -8.476      -2.560\n",
       "==============================================================================\n",
       "Omnibus:                        2.537   Durbin-Watson:                   2.005\n",
       "Prob(Omnibus):                  0.281   Jarque-Bera (JB):                2.344\n",
       "Skew:                          -0.393   Prob(JB):                        0.310\n",
       "Kurtosis:                       2.921   Cond. No.                     1.36e+03\n",
       "==============================================================================\n",
       "\n",
       "Notes:\n",
       "[1] Standard Errors assume that the covariance matrix of the errors is correctly specified.\n",
       "[2] The condition number is large, 1.36e+03. This might indicate that there are\n",
       "strong multicollinearity or other numerical problems.\n",
       "\"\"\""
      ]
     },
     "execution_count": 79,
     "metadata": {},
     "output_type": "execute_result"
    }
   ],
   "source": [
    "m, base_reduced_cols = pval_selection(base_cols)\n",
    "m.summary()\n"
   ]
  },
  {
   "cell_type": "code",
   "execution_count": 80,
   "metadata": {},
   "outputs": [
    {
     "data": {
      "text/html": [
       "<table class=\"simpletable\">\n",
       "<caption>OLS Regression Results</caption>\n",
       "<tr>\n",
       "  <th>Dep. Variable:</th>    <td>Final Pair Score</td> <th>  R-squared:         </th> <td>   0.999</td> \n",
       "</tr>\n",
       "<tr>\n",
       "  <th>Model:</th>                   <td>OLS</td>       <th>  Adj. R-squared:    </th> <td>   0.999</td> \n",
       "</tr>\n",
       "<tr>\n",
       "  <th>Method:</th>             <td>Least Squares</td>  <th>  F-statistic:       </th> <td>1.545e+04</td>\n",
       "</tr>\n",
       "<tr>\n",
       "  <th>Date:</th>             <td>Thu, 15 Jun 2023</td> <th>  Prob (F-statistic):</th> <td>2.85e-124</td>\n",
       "</tr>\n",
       "<tr>\n",
       "  <th>Time:</th>                 <td>16:47:49</td>     <th>  Log-Likelihood:    </th> <td>  193.40</td> \n",
       "</tr>\n",
       "<tr>\n",
       "  <th>No. Observations:</th>      <td>    90</td>      <th>  AIC:               </th> <td>  -372.8</td> \n",
       "</tr>\n",
       "<tr>\n",
       "  <th>Df Residuals:</th>          <td>    83</td>      <th>  BIC:               </th> <td>  -355.3</td> \n",
       "</tr>\n",
       "<tr>\n",
       "  <th>Df Model:</th>              <td>     6</td>      <th>                     </th>     <td> </td>    \n",
       "</tr>\n",
       "<tr>\n",
       "  <th>Covariance Type:</th>      <td>nonrobust</td>    <th>                     </th>     <td> </td>    \n",
       "</tr>\n",
       "</table>\n",
       "<table class=\"simpletable\">\n",
       "<tr>\n",
       "                         <td></td>                            <th>coef</th>     <th>std err</th>      <th>t</th>      <th>P>|t|</th>  <th>[0.025</th>    <th>0.975]</th>  \n",
       "</tr>\n",
       "<tr>\n",
       "  <th>const</th>                                           <td>    0.0011</td> <td>    0.003</td> <td>    0.360</td> <td> 0.720</td> <td>   -0.005</td> <td>    0.007</td>\n",
       "</tr>\n",
       "<tr>\n",
       "  <th>Win Rate</th>                                        <td>   -0.9203</td> <td>    0.167</td> <td>   -5.521</td> <td> 0.000</td> <td>   -1.252</td> <td>   -0.589</td>\n",
       "</tr>\n",
       "<tr>\n",
       "  <th>log(Average Win Time)</th>                           <td>   -0.0566</td> <td>    0.028</td> <td>   -2.015</td> <td> 0.047</td> <td>   -0.113</td> <td>   -0.001</td>\n",
       "</tr>\n",
       "<tr>\n",
       "  <th>Min Win Time</th>                                    <td>    0.0955</td> <td>    0.018</td> <td>    5.272</td> <td> 0.000</td> <td>    0.059</td> <td>    0.132</td>\n",
       "</tr>\n",
       "<tr>\n",
       "  <th>Average Red Words Flipped By Game</th>               <td>    0.2077</td> <td>    0.069</td> <td>    3.004</td> <td> 0.004</td> <td>    0.070</td> <td>    0.345</td>\n",
       "</tr>\n",
       "<tr>\n",
       "  <th>Average Blue Words Flipped By Game</th>              <td>   -0.5910</td> <td>    0.181</td> <td>   -3.264</td> <td> 0.002</td> <td>   -0.951</td> <td>   -0.231</td>\n",
       "</tr>\n",
       "<tr>\n",
       "  <th>log(Average Assassin Words Flipped By Game + 1)</th> <td>   -1.1523</td> <td>    0.320</td> <td>   -3.600</td> <td> 0.001</td> <td>   -1.789</td> <td>   -0.516</td>\n",
       "</tr>\n",
       "</table>\n",
       "<table class=\"simpletable\">\n",
       "<tr>\n",
       "  <th>Omnibus:</th>       <td> 2.773</td> <th>  Durbin-Watson:     </th> <td>   2.225</td>\n",
       "</tr>\n",
       "<tr>\n",
       "  <th>Prob(Omnibus):</th> <td> 0.250</td> <th>  Jarque-Bera (JB):  </th> <td>   2.089</td>\n",
       "</tr>\n",
       "<tr>\n",
       "  <th>Skew:</th>          <td>-0.315</td> <th>  Prob(JB):          </th> <td>   0.352</td>\n",
       "</tr>\n",
       "<tr>\n",
       "  <th>Kurtosis:</th>      <td> 3.399</td> <th>  Cond. No.          </th> <td>    299.</td>\n",
       "</tr>\n",
       "</table><br/><br/>Notes:<br/>[1] Standard Errors assume that the covariance matrix of the errors is correctly specified."
      ],
      "text/plain": [
       "<class 'statsmodels.iolib.summary.Summary'>\n",
       "\"\"\"\n",
       "                            OLS Regression Results                            \n",
       "==============================================================================\n",
       "Dep. Variable:       Final Pair Score   R-squared:                       0.999\n",
       "Model:                            OLS   Adj. R-squared:                  0.999\n",
       "Method:                 Least Squares   F-statistic:                 1.545e+04\n",
       "Date:                Thu, 15 Jun 2023   Prob (F-statistic):          2.85e-124\n",
       "Time:                        16:47:49   Log-Likelihood:                 193.40\n",
       "No. Observations:                  90   AIC:                            -372.8\n",
       "Df Residuals:                      83   BIC:                            -355.3\n",
       "Df Model:                           6                                         \n",
       "Covariance Type:            nonrobust                                         \n",
       "===================================================================================================================\n",
       "                                                      coef    std err          t      P>|t|      [0.025      0.975]\n",
       "-------------------------------------------------------------------------------------------------------------------\n",
       "const                                               0.0011      0.003      0.360      0.720      -0.005       0.007\n",
       "Win Rate                                           -0.9203      0.167     -5.521      0.000      -1.252      -0.589\n",
       "log(Average Win Time)                              -0.0566      0.028     -2.015      0.047      -0.113      -0.001\n",
       "Min Win Time                                        0.0955      0.018      5.272      0.000       0.059       0.132\n",
       "Average Red Words Flipped By Game                   0.2077      0.069      3.004      0.004       0.070       0.345\n",
       "Average Blue Words Flipped By Game                 -0.5910      0.181     -3.264      0.002      -0.951      -0.231\n",
       "log(Average Assassin Words Flipped By Game + 1)    -1.1523      0.320     -3.600      0.001      -1.789      -0.516\n",
       "==============================================================================\n",
       "Omnibus:                        2.773   Durbin-Watson:                   2.225\n",
       "Prob(Omnibus):                  0.250   Jarque-Bera (JB):                2.089\n",
       "Skew:                          -0.315   Prob(JB):                        0.352\n",
       "Kurtosis:                       3.399   Cond. No.                         299.\n",
       "==============================================================================\n",
       "\n",
       "Notes:\n",
       "[1] Standard Errors assume that the covariance matrix of the errors is correctly specified.\n",
       "\"\"\""
      ]
     },
     "execution_count": 80,
     "metadata": {},
     "output_type": "execute_result"
    }
   ],
   "source": [
    "m, log_base_reduced_columns = pval_selection(base_log_cols)\n",
    "m.summary()"
   ]
  },
  {
   "cell_type": "code",
   "execution_count": 81,
   "metadata": {},
   "outputs": [
    {
     "data": {
      "text/html": [
       "<table class=\"simpletable\">\n",
       "<caption>OLS Regression Results</caption>\n",
       "<tr>\n",
       "  <th>Dep. Variable:</th>    <td>Final Pair Score</td> <th>  R-squared:         </th> <td>   1.000</td>\n",
       "</tr>\n",
       "<tr>\n",
       "  <th>Model:</th>                   <td>OLS</td>       <th>  Adj. R-squared:    </th> <td>   1.000</td>\n",
       "</tr>\n",
       "<tr>\n",
       "  <th>Method:</th>             <td>Least Squares</td>  <th>  F-statistic:       </th> <td>   9721.</td>\n",
       "</tr>\n",
       "<tr>\n",
       "  <th>Date:</th>             <td>Thu, 15 Jun 2023</td> <th>  Prob (F-statistic):</th> <td>9.80e-72</td>\n",
       "</tr>\n",
       "<tr>\n",
       "  <th>Time:</th>                 <td>16:47:50</td>     <th>  Log-Likelihood:    </th> <td>  297.82</td>\n",
       "</tr>\n",
       "<tr>\n",
       "  <th>No. Observations:</th>      <td>    90</td>      <th>  AIC:               </th> <td>  -497.6</td>\n",
       "</tr>\n",
       "<tr>\n",
       "  <th>Df Residuals:</th>          <td>    41</td>      <th>  BIC:               </th> <td>  -375.2</td>\n",
       "</tr>\n",
       "<tr>\n",
       "  <th>Df Model:</th>              <td>    48</td>      <th>                     </th>     <td> </td>   \n",
       "</tr>\n",
       "<tr>\n",
       "  <th>Covariance Type:</th>      <td>nonrobust</td>    <th>                     </th>     <td> </td>   \n",
       "</tr>\n",
       "</table>\n",
       "<table class=\"simpletable\">\n",
       "<tr>\n",
       "                                             <td></td>                                                <th>coef</th>     <th>std err</th>      <th>t</th>      <th>P>|t|</th>  <th>[0.025</th>    <th>0.975]</th>  \n",
       "</tr>\n",
       "<tr>\n",
       "  <th>const</th>                                                                                   <td>    0.0035</td> <td>    0.002</td> <td>    1.435</td> <td> 0.159</td> <td>   -0.001</td> <td>    0.008</td>\n",
       "</tr>\n",
       "<tr>\n",
       "  <th>Win Rate</th>                                                                                <td>-9656.0558</td> <td> 2614.059</td> <td>   -3.694</td> <td> 0.001</td> <td>-1.49e+04</td> <td>-4376.856</td>\n",
       "</tr>\n",
       "<tr>\n",
       "  <th>Average Win Time</th>                                                                        <td> 1.902e+04</td> <td> 4782.372</td> <td>    3.976</td> <td> 0.000</td> <td> 9357.393</td> <td> 2.87e+04</td>\n",
       "</tr>\n",
       "<tr>\n",
       "  <th>Average Red Words Flipped By Game</th>                                                       <td> 2765.0352</td> <td>  455.296</td> <td>    6.073</td> <td> 0.000</td> <td> 1845.547</td> <td> 3684.524</td>\n",
       "</tr>\n",
       "<tr>\n",
       "  <th>Average Blue Words Flipped By Game</th>                                                      <td> 8723.6811</td> <td> 1504.799</td> <td>    5.797</td> <td> 0.000</td> <td> 5684.678</td> <td> 1.18e+04</td>\n",
       "</tr>\n",
       "<tr>\n",
       "  <th>Average Bystander Words Flipped By Game</th>                                                 <td> 1699.1675</td> <td>  452.452</td> <td>    3.755</td> <td> 0.001</td> <td>  785.422</td> <td> 2612.913</td>\n",
       "</tr>\n",
       "<tr>\n",
       "  <th>Average Assassin Words Flipped By Game</th>                                                  <td> -4.17e+05</td> <td> 9.51e+04</td> <td>   -4.383</td> <td> 0.000</td> <td>-6.09e+05</td> <td>-2.25e+05</td>\n",
       "</tr>\n",
       "<tr>\n",
       "  <th>log(Average Assassin Words Flipped By Game + 1)</th>                                         <td> 3.439e+05</td> <td> 7.93e+04</td> <td>    4.338</td> <td> 0.000</td> <td> 1.84e+05</td> <td> 5.04e+05</td>\n",
       "</tr>\n",
       "<tr>\n",
       "  <th>log(Average Win Time)</th>                                                                   <td> 1481.1259</td> <td>  437.812</td> <td>    3.383</td> <td> 0.002</td> <td>  596.947</td> <td> 2365.305</td>\n",
       "</tr>\n",
       "<tr>\n",
       "  <th>Win Rate^2</th>                                                                              <td> 1.425e+04</td> <td> 2698.598</td> <td>    5.281</td> <td> 0.000</td> <td> 8802.615</td> <td> 1.97e+04</td>\n",
       "</tr>\n",
       "<tr>\n",
       "  <th>Win Rate Average Win Time</th>                                                               <td> 1100.5978</td> <td>  189.285</td> <td>    5.815</td> <td> 0.000</td> <td>  718.329</td> <td> 1482.866</td>\n",
       "</tr>\n",
       "<tr>\n",
       "  <th>Win Rate Min Win Time</th>                                                                   <td>   -5.1386</td> <td>    1.738</td> <td>   -2.957</td> <td> 0.005</td> <td>   -8.648</td> <td>   -1.629</td>\n",
       "</tr>\n",
       "<tr>\n",
       "  <th>Win Rate Average Red Words Flipped By Game</th>                                              <td>-7112.0220</td> <td> 1187.572</td> <td>   -5.989</td> <td> 0.000</td> <td>-9510.372</td> <td>-4713.672</td>\n",
       "</tr>\n",
       "<tr>\n",
       "  <th>Win Rate Average Blue Words Flipped By Game</th>                                             <td>-5380.5605</td> <td>  947.836</td> <td>   -5.677</td> <td> 0.000</td> <td>-7294.755</td> <td>-3466.366</td>\n",
       "</tr>\n",
       "<tr>\n",
       "  <th>Win Rate Average Bystander Words Flipped By Game</th>                                        <td>-1781.4640</td> <td>  362.712</td> <td>   -4.912</td> <td> 0.000</td> <td>-2513.976</td> <td>-1048.953</td>\n",
       "</tr>\n",
       "<tr>\n",
       "  <th>Win Rate log(Average Assassin Words Flipped By Game + 1)</th>                                <td> 1.725e+04</td> <td> 3123.839</td> <td>    5.521</td> <td> 0.000</td> <td> 1.09e+04</td> <td> 2.36e+04</td>\n",
       "</tr>\n",
       "<tr>\n",
       "  <th>Win Rate log(Average Win Time)</th>                                                          <td>-1043.0338</td> <td>  186.274</td> <td>   -5.599</td> <td> 0.000</td> <td>-1419.222</td> <td> -666.845</td>\n",
       "</tr>\n",
       "<tr>\n",
       "  <th>Average Win Time^2</th>                                                                      <td> 2502.4986</td> <td>  509.288</td> <td>    4.914</td> <td> 0.000</td> <td> 1473.972</td> <td> 3531.026</td>\n",
       "</tr>\n",
       "<tr>\n",
       "  <th>Average Win Time Min Win Time</th>                                                           <td>  -98.4999</td> <td>   30.556</td> <td>   -3.224</td> <td> 0.002</td> <td> -160.209</td> <td>  -36.791</td>\n",
       "</tr>\n",
       "<tr>\n",
       "  <th>Average Win Time Average Red Words Flipped By Game</th>                                      <td>  218.9698</td> <td>   87.969</td> <td>    2.489</td> <td> 0.017</td> <td>   41.314</td> <td>  396.626</td>\n",
       "</tr>\n",
       "<tr>\n",
       "  <th>Average Win Time Average Blue Words Flipped By Game</th>                                     <td> 1043.1926</td> <td>  238.760</td> <td>    4.369</td> <td> 0.000</td> <td>  561.007</td> <td> 1525.379</td>\n",
       "</tr>\n",
       "<tr>\n",
       "  <th>Average Win Time Average Bystander Words Flipped By Game</th>                                <td> -747.1803</td> <td>  185.652</td> <td>   -4.025</td> <td> 0.000</td> <td>-1122.112</td> <td> -372.249</td>\n",
       "</tr>\n",
       "<tr>\n",
       "  <th>Average Win Time log(Average Assassin Words Flipped By Game + 1)</th>                        <td> 2488.6499</td> <td>  474.285</td> <td>    5.247</td> <td> 0.000</td> <td> 1530.811</td> <td> 3446.489</td>\n",
       "</tr>\n",
       "<tr>\n",
       "  <th>Average Win Time log(Average Win Time)</th>                                                  <td>-1.874e+04</td> <td> 4129.341</td> <td>   -4.539</td> <td> 0.000</td> <td>-2.71e+04</td> <td>-1.04e+04</td>\n",
       "</tr>\n",
       "<tr>\n",
       "  <th>Min Win Time^2</th>                                                                          <td>   -3.6435</td> <td>    1.528</td> <td>   -2.385</td> <td> 0.022</td> <td>   -6.728</td> <td>   -0.558</td>\n",
       "</tr>\n",
       "<tr>\n",
       "  <th>Min Win Time Average Blue Words Flipped By Game</th>                                         <td>   27.4584</td> <td>   11.066</td> <td>    2.481</td> <td> 0.017</td> <td>    5.110</td> <td>   49.807</td>\n",
       "</tr>\n",
       "<tr>\n",
       "  <th>Min Win Time Average Assassin Words Flipped By Game</th>                                     <td>  191.9928</td> <td>   38.626</td> <td>    4.971</td> <td> 0.000</td> <td>  113.985</td> <td>  270.000</td>\n",
       "</tr>\n",
       "<tr>\n",
       "  <th>Min Win Time log(Average Assassin Words Flipped By Game + 1)</th>                            <td> -244.5318</td> <td>   49.225</td> <td>   -4.968</td> <td> 0.000</td> <td> -343.943</td> <td> -145.121</td>\n",
       "</tr>\n",
       "<tr>\n",
       "  <th>Min Win Time log(Average Win Time)</th>                                                      <td>  128.7928</td> <td>   37.243</td> <td>    3.458</td> <td> 0.001</td> <td>   53.579</td> <td>  204.006</td>\n",
       "</tr>\n",
       "<tr>\n",
       "  <th>Average Red Words Flipped By Game^2</th>                                                     <td>  -85.4948</td> <td>   39.164</td> <td>   -2.183</td> <td> 0.035</td> <td> -164.588</td> <td>   -6.402</td>\n",
       "</tr>\n",
       "<tr>\n",
       "  <th>Average Red Words Flipped By Game Average Blue Words Flipped By Game</th>                    <td> -435.1338</td> <td>  132.000</td> <td>   -3.296</td> <td> 0.002</td> <td> -701.712</td> <td> -168.555</td>\n",
       "</tr>\n",
       "<tr>\n",
       "  <th>Average Red Words Flipped By Game Average Bystander Words Flipped By Game</th>               <td>  371.0822</td> <td>  129.315</td> <td>    2.870</td> <td> 0.006</td> <td>  109.926</td> <td>  632.238</td>\n",
       "</tr>\n",
       "<tr>\n",
       "  <th>Average Red Words Flipped By Game Average Assassin Words Flipped By Game</th>                <td>-5793.4648</td> <td>  887.786</td> <td>   -6.526</td> <td> 0.000</td> <td>-7586.384</td> <td>-4000.545</td>\n",
       "</tr>\n",
       "<tr>\n",
       "  <th>Average Red Words Flipped By Game log(Average Assassin Words Flipped By Game + 1)</th>       <td> 1332.4566</td> <td>  288.852</td> <td>    4.613</td> <td> 0.000</td> <td>  749.109</td> <td> 1915.804</td>\n",
       "</tr>\n",
       "<tr>\n",
       "  <th>Average Red Words Flipped By Game log(Average Win Time)</th>                                 <td> -217.7498</td> <td>   73.220</td> <td>   -2.974</td> <td> 0.005</td> <td> -365.621</td> <td>  -69.879</td>\n",
       "</tr>\n",
       "<tr>\n",
       "  <th>Average Blue Words Flipped By Game^2</th>                                                    <td>  221.5436</td> <td>   94.717</td> <td>    2.339</td> <td> 0.024</td> <td>   30.258</td> <td>  412.829</td>\n",
       "</tr>\n",
       "<tr>\n",
       "  <th>Average Blue Words Flipped By Game Average Bystander Words Flipped By Game</th>              <td> -427.2759</td> <td>  170.975</td> <td>   -2.499</td> <td> 0.017</td> <td> -772.567</td> <td>  -81.985</td>\n",
       "</tr>\n",
       "<tr>\n",
       "  <th>Average Blue Words Flipped By Game Average Assassin Words Flipped By Game</th>               <td>-3960.9774</td> <td>  635.932</td> <td>   -6.229</td> <td> 0.000</td> <td>-5245.269</td> <td>-2676.686</td>\n",
       "</tr>\n",
       "<tr>\n",
       "  <th>Average Blue Words Flipped By Game log(Average Assassin Words Flipped By Game + 1)</th>      <td> 1329.6977</td> <td>  258.849</td> <td>    5.137</td> <td> 0.000</td> <td>  806.941</td> <td> 1852.454</td>\n",
       "</tr>\n",
       "<tr>\n",
       "  <th>Average Blue Words Flipped By Game log(Average Win Time)</th>                                <td>-1661.4836</td> <td>  357.387</td> <td>   -4.649</td> <td> 0.000</td> <td>-2383.242</td> <td> -939.725</td>\n",
       "</tr>\n",
       "<tr>\n",
       "  <th>Average Bystander Words Flipped By Game^2</th>                                               <td>  204.6059</td> <td>   88.125</td> <td>    2.322</td> <td> 0.025</td> <td>   26.634</td> <td>  382.578</td>\n",
       "</tr>\n",
       "<tr>\n",
       "  <th>Average Bystander Words Flipped By Game log(Average Assassin Words Flipped By Game + 1)</th> <td> -764.8328</td> <td>  192.729</td> <td>   -3.968</td> <td> 0.000</td> <td>-1154.056</td> <td> -375.609</td>\n",
       "</tr>\n",
       "<tr>\n",
       "  <th>Average Bystander Words Flipped By Game log(Average Win Time)</th>                           <td> 1158.5758</td> <td>  276.753</td> <td>    4.186</td> <td> 0.000</td> <td>  599.662</td> <td> 1717.490</td>\n",
       "</tr>\n",
       "<tr>\n",
       "  <th>Average Assassin Words Flipped By Game^2</th>                                                <td>-9075.8872</td> <td> 1954.270</td> <td>   -4.644</td> <td> 0.000</td> <td> -1.3e+04</td> <td>-5129.159</td>\n",
       "</tr>\n",
       "<tr>\n",
       "  <th>Average Assassin Words Flipped By Game log(Average Assassin Words Flipped By Game + 1)</th>  <td> 6.063e+04</td> <td> 1.31e+04</td> <td>    4.618</td> <td> 0.000</td> <td> 3.41e+04</td> <td> 8.72e+04</td>\n",
       "</tr>\n",
       "<tr>\n",
       "  <th>Average Assassin Words Flipped By Game log(Average Win Time)</th>                            <td>-2142.2682</td> <td>  929.265</td> <td>   -2.305</td> <td> 0.026</td> <td>-4018.957</td> <td> -265.579</td>\n",
       "</tr>\n",
       "<tr>\n",
       "  <th>log(Average Assassin Words Flipped By Game + 1)^2</th>                                       <td>   1.3e+04</td> <td> 2972.459</td> <td>    4.373</td> <td> 0.000</td> <td> 6995.551</td> <td>  1.9e+04</td>\n",
       "</tr>\n",
       "<tr>\n",
       "  <th>log(Average Assassin Words Flipped By Game + 1) log(Average Win Time)</th>                   <td>-2336.1209</td> <td>  704.154</td> <td>   -3.318</td> <td> 0.002</td> <td>-3758.189</td> <td> -914.053</td>\n",
       "</tr>\n",
       "<tr>\n",
       "  <th>log(Average Win Time)^2</th>                                                                 <td>-3377.5897</td> <td>  983.581</td> <td>   -3.434</td> <td> 0.001</td> <td>-5363.973</td> <td>-1391.207</td>\n",
       "</tr>\n",
       "</table>\n",
       "<table class=\"simpletable\">\n",
       "<tr>\n",
       "  <th>Omnibus:</th>       <td> 0.488</td> <th>  Durbin-Watson:     </th> <td>   1.922</td>\n",
       "</tr>\n",
       "<tr>\n",
       "  <th>Prob(Omnibus):</th> <td> 0.783</td> <th>  Jarque-Bera (JB):  </th> <td>   0.146</td>\n",
       "</tr>\n",
       "<tr>\n",
       "  <th>Skew:</th>          <td> 0.054</td> <th>  Prob(JB):          </th> <td>   0.930</td>\n",
       "</tr>\n",
       "<tr>\n",
       "  <th>Kurtosis:</th>      <td> 3.166</td> <th>  Cond. No.          </th> <td>5.82e+08</td>\n",
       "</tr>\n",
       "</table><br/><br/>Notes:<br/>[1] Standard Errors assume that the covariance matrix of the errors is correctly specified.<br/>[2] The smallest eigenvalue is 1.1e-14. This might indicate that there are<br/>strong multicollinearity problems or that the design matrix is singular."
      ],
      "text/plain": [
       "<class 'statsmodels.iolib.summary.Summary'>\n",
       "\"\"\"\n",
       "                            OLS Regression Results                            \n",
       "==============================================================================\n",
       "Dep. Variable:       Final Pair Score   R-squared:                       1.000\n",
       "Model:                            OLS   Adj. R-squared:                  1.000\n",
       "Method:                 Least Squares   F-statistic:                     9721.\n",
       "Date:                Thu, 15 Jun 2023   Prob (F-statistic):           9.80e-72\n",
       "Time:                        16:47:50   Log-Likelihood:                 297.82\n",
       "No. Observations:                  90   AIC:                            -497.6\n",
       "Df Residuals:                      41   BIC:                            -375.2\n",
       "Df Model:                          48                                         \n",
       "Covariance Type:            nonrobust                                         \n",
       "===========================================================================================================================================================\n",
       "                                                                                              coef    std err          t      P>|t|      [0.025      0.975]\n",
       "-----------------------------------------------------------------------------------------------------------------------------------------------------------\n",
       "const                                                                                       0.0035      0.002      1.435      0.159      -0.001       0.008\n",
       "Win Rate                                                                                -9656.0558   2614.059     -3.694      0.001   -1.49e+04   -4376.856\n",
       "Average Win Time                                                                         1.902e+04   4782.372      3.976      0.000    9357.393    2.87e+04\n",
       "Average Red Words Flipped By Game                                                        2765.0352    455.296      6.073      0.000    1845.547    3684.524\n",
       "Average Blue Words Flipped By Game                                                       8723.6811   1504.799      5.797      0.000    5684.678    1.18e+04\n",
       "Average Bystander Words Flipped By Game                                                  1699.1675    452.452      3.755      0.001     785.422    2612.913\n",
       "Average Assassin Words Flipped By Game                                                   -4.17e+05   9.51e+04     -4.383      0.000   -6.09e+05   -2.25e+05\n",
       "log(Average Assassin Words Flipped By Game + 1)                                          3.439e+05   7.93e+04      4.338      0.000    1.84e+05    5.04e+05\n",
       "log(Average Win Time)                                                                    1481.1259    437.812      3.383      0.002     596.947    2365.305\n",
       "Win Rate^2                                                                               1.425e+04   2698.598      5.281      0.000    8802.615    1.97e+04\n",
       "Win Rate Average Win Time                                                                1100.5978    189.285      5.815      0.000     718.329    1482.866\n",
       "Win Rate Min Win Time                                                                      -5.1386      1.738     -2.957      0.005      -8.648      -1.629\n",
       "Win Rate Average Red Words Flipped By Game                                              -7112.0220   1187.572     -5.989      0.000   -9510.372   -4713.672\n",
       "Win Rate Average Blue Words Flipped By Game                                             -5380.5605    947.836     -5.677      0.000   -7294.755   -3466.366\n",
       "Win Rate Average Bystander Words Flipped By Game                                        -1781.4640    362.712     -4.912      0.000   -2513.976   -1048.953\n",
       "Win Rate log(Average Assassin Words Flipped By Game + 1)                                 1.725e+04   3123.839      5.521      0.000    1.09e+04    2.36e+04\n",
       "Win Rate log(Average Win Time)                                                          -1043.0338    186.274     -5.599      0.000   -1419.222    -666.845\n",
       "Average Win Time^2                                                                       2502.4986    509.288      4.914      0.000    1473.972    3531.026\n",
       "Average Win Time Min Win Time                                                             -98.4999     30.556     -3.224      0.002    -160.209     -36.791\n",
       "Average Win Time Average Red Words Flipped By Game                                        218.9698     87.969      2.489      0.017      41.314     396.626\n",
       "Average Win Time Average Blue Words Flipped By Game                                      1043.1926    238.760      4.369      0.000     561.007    1525.379\n",
       "Average Win Time Average Bystander Words Flipped By Game                                 -747.1803    185.652     -4.025      0.000   -1122.112    -372.249\n",
       "Average Win Time log(Average Assassin Words Flipped By Game + 1)                         2488.6499    474.285      5.247      0.000    1530.811    3446.489\n",
       "Average Win Time log(Average Win Time)                                                  -1.874e+04   4129.341     -4.539      0.000   -2.71e+04   -1.04e+04\n",
       "Min Win Time^2                                                                             -3.6435      1.528     -2.385      0.022      -6.728      -0.558\n",
       "Min Win Time Average Blue Words Flipped By Game                                            27.4584     11.066      2.481      0.017       5.110      49.807\n",
       "Min Win Time Average Assassin Words Flipped By Game                                       191.9928     38.626      4.971      0.000     113.985     270.000\n",
       "Min Win Time log(Average Assassin Words Flipped By Game + 1)                             -244.5318     49.225     -4.968      0.000    -343.943    -145.121\n",
       "Min Win Time log(Average Win Time)                                                        128.7928     37.243      3.458      0.001      53.579     204.006\n",
       "Average Red Words Flipped By Game^2                                                       -85.4948     39.164     -2.183      0.035    -164.588      -6.402\n",
       "Average Red Words Flipped By Game Average Blue Words Flipped By Game                     -435.1338    132.000     -3.296      0.002    -701.712    -168.555\n",
       "Average Red Words Flipped By Game Average Bystander Words Flipped By Game                 371.0822    129.315      2.870      0.006     109.926     632.238\n",
       "Average Red Words Flipped By Game Average Assassin Words Flipped By Game                -5793.4648    887.786     -6.526      0.000   -7586.384   -4000.545\n",
       "Average Red Words Flipped By Game log(Average Assassin Words Flipped By Game + 1)        1332.4566    288.852      4.613      0.000     749.109    1915.804\n",
       "Average Red Words Flipped By Game log(Average Win Time)                                  -217.7498     73.220     -2.974      0.005    -365.621     -69.879\n",
       "Average Blue Words Flipped By Game^2                                                      221.5436     94.717      2.339      0.024      30.258     412.829\n",
       "Average Blue Words Flipped By Game Average Bystander Words Flipped By Game               -427.2759    170.975     -2.499      0.017    -772.567     -81.985\n",
       "Average Blue Words Flipped By Game Average Assassin Words Flipped By Game               -3960.9774    635.932     -6.229      0.000   -5245.269   -2676.686\n",
       "Average Blue Words Flipped By Game log(Average Assassin Words Flipped By Game + 1)       1329.6977    258.849      5.137      0.000     806.941    1852.454\n",
       "Average Blue Words Flipped By Game log(Average Win Time)                                -1661.4836    357.387     -4.649      0.000   -2383.242    -939.725\n",
       "Average Bystander Words Flipped By Game^2                                                 204.6059     88.125      2.322      0.025      26.634     382.578\n",
       "Average Bystander Words Flipped By Game log(Average Assassin Words Flipped By Game + 1)  -764.8328    192.729     -3.968      0.000   -1154.056    -375.609\n",
       "Average Bystander Words Flipped By Game log(Average Win Time)                            1158.5758    276.753      4.186      0.000     599.662    1717.490\n",
       "Average Assassin Words Flipped By Game^2                                                -9075.8872   1954.270     -4.644      0.000    -1.3e+04   -5129.159\n",
       "Average Assassin Words Flipped By Game log(Average Assassin Words Flipped By Game + 1)   6.063e+04   1.31e+04      4.618      0.000    3.41e+04    8.72e+04\n",
       "Average Assassin Words Flipped By Game log(Average Win Time)                            -2142.2682    929.265     -2.305      0.026   -4018.957    -265.579\n",
       "log(Average Assassin Words Flipped By Game + 1)^2                                          1.3e+04   2972.459      4.373      0.000    6995.551     1.9e+04\n",
       "log(Average Assassin Words Flipped By Game + 1) log(Average Win Time)                   -2336.1209    704.154     -3.318      0.002   -3758.189    -914.053\n",
       "log(Average Win Time)^2                                                                 -3377.5897    983.581     -3.434      0.001   -5363.973   -1391.207\n",
       "==============================================================================\n",
       "Omnibus:                        0.488   Durbin-Watson:                   1.922\n",
       "Prob(Omnibus):                  0.783   Jarque-Bera (JB):                0.146\n",
       "Skew:                           0.054   Prob(JB):                        0.930\n",
       "Kurtosis:                       3.166   Cond. No.                     5.82e+08\n",
       "==============================================================================\n",
       "\n",
       "Notes:\n",
       "[1] Standard Errors assume that the covariance matrix of the errors is correctly specified.\n",
       "[2] The smallest eigenvalue is 1.1e-14. This might indicate that there are\n",
       "strong multicollinearity problems or that the design matrix is singular.\n",
       "\"\"\""
      ]
     },
     "execution_count": 81,
     "metadata": {},
     "output_type": "execute_result"
    }
   ],
   "source": [
    "m, full_reduced_cols = pval_selection(full_cols)\n",
    "m.summary()"
   ]
  },
  {
   "attachments": {},
   "cell_type": "markdown",
   "metadata": {},
   "source": [
    "## Model Building/ Testing\n",
    "\n",
    "Best features to use were the base log cols which are the basic features with the appropriate log transformations for our exploratory data analysis. We can also predict fairly well using only Win Rate and the log of Average Win Time"
   ]
  },
  {
   "cell_type": "code",
   "execution_count": 82,
   "metadata": {},
   "outputs": [],
   "source": [
    "# I have the different column options of \"base_cols\", \"full_cols\", and \"reduced_cols\"\n",
    "#We need to drop the constant off eace because we are now working in sklearn\n",
    "base_cols = base_cols[1:]\n",
    "reduced_base_cols = base_reduced_cols[1:]\n",
    "base_log_cols = base_log_cols[1:]\n",
    "log_base_reduced_columns = log_base_reduced_columns[1:]\n",
    "full_cols = full_cols[1:]\n",
    "full_reduced_cols = full_reduced_cols[1:]"
   ]
  },
  {
   "cell_type": "code",
   "execution_count": 83,
   "metadata": {},
   "outputs": [
    {
     "data": {
      "text/plain": [
       "['Win Rate',\n",
       " 'Average Win Time',\n",
       " 'Min Win Time',\n",
       " 'Average Red Words Flipped By Game',\n",
       " 'Average Blue Words Flipped By Game',\n",
       " 'Average Bystander Words Flipped By Game',\n",
       " 'Average Assassin Words Flipped By Game']"
      ]
     },
     "execution_count": 83,
     "metadata": {},
     "output_type": "execute_result"
    }
   ],
   "source": [
    "base_cols"
   ]
  },
  {
   "cell_type": "code",
   "execution_count": 84,
   "metadata": {},
   "outputs": [],
   "source": [
    "def create_sk_regression_model(X_train, y_train):\n",
    "    reg_prep = LinearRegression()\n",
    "    mod = reg_prep.fit(X_train, y_train)\n",
    "    return mod \n",
    "\n",
    "def get_model_scores(in_p, in_t, out_p, out_t):\n",
    "\n",
    "    in_sample_mspe = np.sqrt(mean_squared_error(in_t, in_p))\n",
    "    out_sample_mspe = np.sqrt(mean_squared_error(out_t, out_p))\n",
    "    in_sample_r2 = r2_score(in_t, in_p)\n",
    "    out_sample_r2 = r2_score(out_t, out_p)\n",
    "    \n",
    "    print(\"In sample MSPE: \", in_sample_mspe)\n",
    "    print(\"Out of sample MSPE: \", out_sample_mspe)\n",
    "    print(\"In sample R^2: \", in_sample_r2)\n",
    "    print(\"Out of sample R^2: \", out_sample_r2)\n",
    "\n",
    "def get_predictions(model, in_X, out_X):\n",
    "    in_preds = model.predict(in_X)\n",
    "    out_preds = model.predict(out_X)\n",
    "    return in_preds, out_preds\n",
    "\n",
    "def test_features(features, X_train, X_test, y_train, y_test):\n",
    "    model = create_sk_regression_model(X_train[features], y_train)\n",
    "    in_preds, out_preds = get_predictions(model, X_train[features], X_test[features])\n",
    "    get_model_scores(in_preds, y_train, out_preds, y_test)"
   ]
  },
  {
   "cell_type": "code",
   "execution_count": 85,
   "metadata": {},
   "outputs": [
    {
     "name": "stdout",
     "output_type": "stream",
     "text": [
      "In sample MSPE:  0.028906489902820902\n",
      "Out of sample MSPE:  0.032064956820643295\n",
      "In sample R^2:  0.9990613050945402\n",
      "Out of sample R^2:  0.9991462753863012\n"
     ]
    }
   ],
   "source": [
    "test_features(base_cols, X_train, X_test, y_train, y_test)"
   ]
  },
  {
   "cell_type": "code",
   "execution_count": 86,
   "metadata": {},
   "outputs": [
    {
     "name": "stdout",
     "output_type": "stream",
     "text": [
      "In sample MSPE:  0.029607749668577696\n",
      "Out of sample MSPE:  0.029925880126865145\n",
      "In sample R^2:  0.99901520792803\n",
      "Out of sample R^2:  0.9992563812225355\n"
     ]
    }
   ],
   "source": [
    "test_features(reduced_base_cols, X_train, X_test, y_train, y_test)"
   ]
  },
  {
   "cell_type": "code",
   "execution_count": 87,
   "metadata": {},
   "outputs": [
    {
     "name": "stdout",
     "output_type": "stream",
     "text": [
      "In sample MSPE:  0.028153635509503987\n",
      "Out of sample MSPE:  0.02621460736850332\n",
      "In sample R^2:  0.9991095639985149\n",
      "Out of sample R^2:  0.9994293849806092\n"
     ]
    }
   ],
   "source": [
    "test_features(base_log_cols, X_train, X_test, y_train, y_test)"
   ]
  },
  {
   "cell_type": "code",
   "execution_count": 88,
   "metadata": {},
   "outputs": [
    {
     "name": "stdout",
     "output_type": "stream",
     "text": [
      "In sample MSPE:  0.028217290713249223\n",
      "Out of sample MSPE:  0.026489419792513628\n",
      "In sample R^2:  0.9991055329054328\n",
      "Out of sample R^2:  0.9994173585528175\n"
     ]
    }
   ],
   "source": [
    "test_features(log_base_reduced_columns, X_train, X_test, y_train, y_test)"
   ]
  },
  {
   "cell_type": "code",
   "execution_count": 89,
   "metadata": {},
   "outputs": [
    {
     "name": "stdout",
     "output_type": "stream",
     "text": [
      "In sample MSPE:  0.008696471668888804\n",
      "Out of sample MSPE:  0.15726585710245455\n",
      "In sample R^2:  0.9999150389411566\n",
      "Out of sample R^2:  0.979463549804256\n"
     ]
    }
   ],
   "source": [
    "test_features(full_cols, X_train, X_test, y_train, y_test)"
   ]
  },
  {
   "cell_type": "code",
   "execution_count": 90,
   "metadata": {},
   "outputs": [
    {
     "name": "stdout",
     "output_type": "stream",
     "text": [
      "In sample MSPE:  0.008843580973320563\n",
      "Out of sample MSPE:  0.15543403032028105\n",
      "In sample R^2:  0.9999121402310961\n",
      "Out of sample R^2:  0.9799391791181119\n"
     ]
    }
   ],
   "source": [
    "test_features(full_reduced_cols, X_train, X_test, y_train, y_test)"
   ]
  },
  {
   "cell_type": "code",
   "execution_count": 91,
   "metadata": {},
   "outputs": [
    {
     "name": "stdout",
     "output_type": "stream",
     "text": [
      "In sample MSPE:  0.10415156138930369\n",
      "Out of sample MSPE:  0.11493630473706994\n",
      "In sample R^2:  0.9878138838435486\n",
      "Out of sample R^2:  0.9890309012988019\n"
     ]
    }
   ],
   "source": [
    "## I want to see how well I can predict with only Win time and win rate\n",
    "test_features([\"Win Rate\", \"log(Average Win Time)\"], X_train, X_test, y_train, y_test)"
   ]
  },
  {
   "cell_type": "code",
   "execution_count": 92,
   "metadata": {},
   "outputs": [
    {
     "name": "stdout",
     "output_type": "stream",
     "text": [
      "In sample MSPE:  0.1346615265131948\n",
      "Out of sample MSPE:  0.16915785042021805\n",
      "In sample R^2:  0.9796286031189543\n",
      "Out of sample R^2:  0.9762403083969201\n"
     ]
    }
   ],
   "source": [
    "test_features([\"Win Rate\", \"Average Win Time\"], X_train, X_test, y_train, y_test)"
   ]
  },
  {
   "cell_type": "code",
   "execution_count": 93,
   "metadata": {},
   "outputs": [
    {
     "name": "stdout",
     "output_type": "stream",
     "text": [
      "In sample MSPE:  0.08038941341134488\n",
      "Out of sample MSPE:  0.08343002964124943\n",
      "In sample R^2:  0.9927400862243614\n",
      "Out of sample R^2:  0.9942203534584063\n"
     ]
    }
   ],
   "source": [
    "test_features([\"Win Rate\", \"log(Average Win Time)\", \"Min Win Time\"], X_train, X_test, y_train, y_test)"
   ]
  },
  {
   "attachments": {},
   "cell_type": "markdown",
   "metadata": {},
   "source": [
    "## Pipeline Setup"
   ]
  },
  {
   "cell_type": "code",
   "execution_count": 94,
   "metadata": {},
   "outputs": [],
   "source": [
    "\n",
    "class MyPipeline:\n",
    "    def __init__(self, model=None, X_scaler=None, y_scaler=None, log_indices=None, log1_indices=None, obj=None):\n",
    "\n",
    "        #check stuff \n",
    "        if model == None and  X_scalar == None and y_scalar == None and log_indices == None and log1_indices == None and obj == None:\n",
    "            raise Exception(\"Invalid arguments\")\n",
    "        \n",
    "        if obj != None:\n",
    "            try:\n",
    "                self.model = obj.model \n",
    "            except:\n",
    "                self.model = None\n",
    "            try:\n",
    "                self.X_scaler = obj.X_scaler\n",
    "            except:\n",
    "                self.X_scaler = None\n",
    "            try:\n",
    "                self.y_scaler = obj.y_scaler \n",
    "            except:\n",
    "                self.y_scaler = None\n",
    "            try:\n",
    "                self.log_indices = obj.log_indices \n",
    "            except:\n",
    "                self.log_indices = []\n",
    "            try:\n",
    "                self.log1_indices = obj.log1_indices\n",
    "            except:\n",
    "                self.log1_indices = []\n",
    "        else:\n",
    "            self.model = model \n",
    "            self.X_scaler = X_scaler \n",
    "            self.y_scaler = y_scaler\n",
    "            self.log_indices = log_indices\n",
    "            self.log1_indices = log1_indices\n",
    "\n",
    "    \n",
    "    def predict(self, data):\n",
    "        #log transform the data \n",
    "        for i in self.log_indices:\n",
    "            data[:, i] = np.log(data[:, i])\n",
    "        for i in self.log1_indices:\n",
    "            data[:, i] = np.log(data[:, i] + 1)\n",
    "\n",
    "        #scale it\n",
    "        data = self.X_scaler.transform(data)\n",
    "\n",
    "        out = self.model.predict(data)\n",
    "\n",
    "        out = self.y_scaler.inverse_transform(out.reshape(-1, 1))\n",
    "\n",
    "        return out\n",
    "\n",
    "def create_pipeline(cols, features, target, log_indices, log1_indices):\n",
    "    features = features[cols].to_numpy()\n",
    "    X_scale = StandardScaler()\n",
    "    X_scale.fit(features)\n",
    "\n",
    "    target = target.to_numpy().reshape(-1, 1)\n",
    "    y_scale = StandardScaler()\n",
    "    y_scale.fit(target)\n",
    "\n",
    "    scaled_X = X_scale.transform(features)\n",
    "    scaled_y = y_scale.transform(target)\n",
    "\n",
    "    model = create_sk_regression_model(scaled_X, scaled_y)\n",
    "\n",
    "    pipe = MyPipeline(model, X_scale, y_scale, log_indices, log1_indices)\n",
    "\n",
    "    return pipe\n",
    "    \n",
    "\n"
   ]
  },
  {
   "cell_type": "code",
   "execution_count": 115,
   "metadata": {},
   "outputs": [],
   "source": [
    "pipe = create_pipeline([\"Win Rate\", \"log(Average Win Time)\"], X_full, y, [1], [])"
   ]
  },
  {
   "cell_type": "code",
   "execution_count": 116,
   "metadata": {},
   "outputs": [
    {
     "data": {
      "text/plain": [
       "array([[ 0.81544147],\n",
       "       [-0.10176998],\n",
       "       [ 1.50267521]])"
      ]
     },
     "execution_count": 116,
     "metadata": {},
     "output_type": "execute_result"
    }
   ],
   "source": [
    "pipe.predict(X[[\"Win Rate\", \"Average Win Time\"]].to_numpy()[:3])"
   ]
  },
  {
   "cell_type": "code",
   "execution_count": 117,
   "metadata": {},
   "outputs": [
    {
     "data": {
      "text/plain": [
       "0    0.846839\n",
       "1   -0.036113\n",
       "2    1.601976\n",
       "Name: Final Pair Score, dtype: float64"
      ]
     },
     "execution_count": 117,
     "metadata": {},
     "output_type": "execute_result"
    }
   ],
   "source": [
    "y[:3]"
   ]
  },
  {
   "cell_type": "code",
   "execution_count": 118,
   "metadata": {},
   "outputs": [],
   "source": [
    "save_path = os.path.join(r, \"CoLT\", \"CoLT Estimation\", \"CoLT-Estimator-Pipeline.pkl\")\n",
    "with open(save_path, 'wb') as f:\n",
    "    pickle.dump(pipe, f)"
   ]
  },
  {
   "cell_type": "code",
   "execution_count": 119,
   "metadata": {},
   "outputs": [
    {
     "data": {
      "text/plain": [
       "array([[ 0.46064129, -0.53754478]])"
      ]
     },
     "execution_count": 119,
     "metadata": {},
     "output_type": "execute_result"
    }
   ],
   "source": [
    "pipe.model.coef_"
   ]
  },
  {
   "attachments": {},
   "cell_type": "markdown",
   "metadata": {},
   "source": [
    "## Use Final Model"
   ]
  },
  {
   "cell_type": "code",
   "execution_count": 120,
   "metadata": {},
   "outputs": [],
   "source": [
    "path = save_path\n",
    "\n",
    "with open(path, \"rb\") as f:\n",
    "    m = pickle.load(f)\n",
    "\n"
   ]
  },
  {
   "cell_type": "code",
   "execution_count": 121,
   "metadata": {},
   "outputs": [],
   "source": [
    "m = MyPipeline(obj=m)"
   ]
  },
  {
   "cell_type": "code",
   "execution_count": 122,
   "metadata": {},
   "outputs": [
    {
     "data": {
      "text/plain": [
       "array([[ 0.46064129, -0.53754478]])"
      ]
     },
     "execution_count": 122,
     "metadata": {},
     "output_type": "execute_result"
    }
   ],
   "source": [
    "m.model.coef_"
   ]
  },
  {
   "cell_type": "code",
   "execution_count": 123,
   "metadata": {},
   "outputs": [
    {
     "data": {
      "text/plain": [
       "array([[-0.49971882],\n",
       "       [-0.11727172],\n",
       "       [-0.4740964 ],\n",
       "       [-0.11094139]])"
      ]
     },
     "execution_count": 123,
     "metadata": {},
     "output_type": "execute_result"
    }
   ],
   "source": [
    "m.predict(np.array([[.90, 9.1], \n",
    "                        [.867, 7.4],\n",
    "                        [.667, 6.2],\n",
    "                        [.778, 6.4]]))"
   ]
  },
  {
   "attachments": {},
   "cell_type": "markdown",
   "metadata": {},
   "source": [
    "# Kim Comparison\n"
   ]
  },
  {
   "cell_type": "code",
   "execution_count": 301,
   "metadata": {},
   "outputs": [],
   "source": [
    "path = \"/Users/spencerbrosnahan/Documents/GitHub/codenames-ai/stats/other/kim-spymaster-comparison.csv\"\n",
    "\n",
    "df = pd.read_csv(path)"
   ]
  },
  {
   "cell_type": "code",
   "execution_count": 302,
   "metadata": {},
   "outputs": [
    {
     "data": {
      "text/html": [
       "<div>\n",
       "<style scoped>\n",
       "    .dataframe tbody tr th:only-of-type {\n",
       "        vertical-align: middle;\n",
       "    }\n",
       "\n",
       "    .dataframe tbody tr th {\n",
       "        vertical-align: top;\n",
       "    }\n",
       "\n",
       "    .dataframe thead th {\n",
       "        text-align: right;\n",
       "    }\n",
       "</style>\n",
       "<table border=\"1\" class=\"dataframe\">\n",
       "  <thead>\n",
       "    <tr style=\"text-align: right;\">\n",
       "      <th></th>\n",
       "      <th>Unnamed: 0</th>\n",
       "      <th>Win Rate</th>\n",
       "      <th>Unnamed: 2</th>\n",
       "      <th>Unnamed: 3</th>\n",
       "      <th>Unnamed: 4</th>\n",
       "      <th>Win Time</th>\n",
       "      <th>Unnamed: 6</th>\n",
       "      <th>Unnamed: 7</th>\n",
       "      <th>Unnamed: 8</th>\n",
       "      <th>Min Win Time</th>\n",
       "      <th>Unnamed: 10</th>\n",
       "      <th>Unnamed: 11</th>\n",
       "      <th>Unnamed: 12</th>\n",
       "    </tr>\n",
       "  </thead>\n",
       "  <tbody>\n",
       "    <tr>\n",
       "      <th>0</th>\n",
       "      <td>Team</td>\n",
       "      <td>Low</td>\n",
       "      <td>Medium</td>\n",
       "      <td>High</td>\n",
       "      <td>Average</td>\n",
       "      <td>Low</td>\n",
       "      <td>Medium</td>\n",
       "      <td>High</td>\n",
       "      <td>Average</td>\n",
       "      <td>Low</td>\n",
       "      <td>Medium</td>\n",
       "      <td>High</td>\n",
       "      <td>Average</td>\n",
       "    </tr>\n",
       "    <tr>\n",
       "      <th>1</th>\n",
       "      <td>w2v-g50 with w2v-g50</td>\n",
       "      <td>86.7</td>\n",
       "      <td>83.3</td>\n",
       "      <td>100</td>\n",
       "      <td>90</td>\n",
       "      <td>5.7</td>\n",
       "      <td>4.9</td>\n",
       "      <td>3.4</td>\n",
       "      <td>4.666666667</td>\n",
       "      <td>4</td>\n",
       "      <td>3</td>\n",
       "      <td>3</td>\n",
       "      <td>3.333333333</td>\n",
       "    </tr>\n",
       "    <tr>\n",
       "      <th>2</th>\n",
       "      <td>w2v-g50 with w2v-g100</td>\n",
       "      <td>96.7</td>\n",
       "      <td>96.7</td>\n",
       "      <td>86.7</td>\n",
       "      <td>93.36666667</td>\n",
       "      <td>8.3</td>\n",
       "      <td>6.3</td>\n",
       "      <td>4.7</td>\n",
       "      <td>6.433333333</td>\n",
       "      <td>7</td>\n",
       "      <td>4</td>\n",
       "      <td>3</td>\n",
       "      <td>4.666666667</td>\n",
       "    </tr>\n",
       "    <tr>\n",
       "      <th>3</th>\n",
       "      <td>w2v-g50 with w2v-g200</td>\n",
       "      <td>96.7</td>\n",
       "      <td>96.7</td>\n",
       "      <td>66.7</td>\n",
       "      <td>86.7</td>\n",
       "      <td>8.3</td>\n",
       "      <td>6.3</td>\n",
       "      <td>5</td>\n",
       "      <td>6.533333333</td>\n",
       "      <td>7</td>\n",
       "      <td>4</td>\n",
       "      <td>3</td>\n",
       "      <td>4.666666667</td>\n",
       "    </tr>\n",
       "    <tr>\n",
       "      <th>4</th>\n",
       "      <td>w2v-g50 with w2v-g300</td>\n",
       "      <td>93.3</td>\n",
       "      <td>93.3</td>\n",
       "      <td>80</td>\n",
       "      <td>88.86666667</td>\n",
       "      <td>8.4</td>\n",
       "      <td>6.4</td>\n",
       "      <td>4.9</td>\n",
       "      <td>6.566666667</td>\n",
       "      <td>7</td>\n",
       "      <td>4</td>\n",
       "      <td>3</td>\n",
       "      <td>4.666666667</td>\n",
       "    </tr>\n",
       "  </tbody>\n",
       "</table>\n",
       "</div>"
      ],
      "text/plain": [
       "              Unnamed: 0 Win Rate Unnamed: 2 Unnamed: 3   Unnamed: 4 Win Time  \\\n",
       "0                   Team      Low     Medium       High      Average      Low   \n",
       "1   w2v-g50 with w2v-g50     86.7       83.3        100           90      5.7   \n",
       "2  w2v-g50 with w2v-g100     96.7       96.7       86.7  93.36666667      8.3   \n",
       "3  w2v-g50 with w2v-g200     96.7       96.7       66.7         86.7      8.3   \n",
       "4  w2v-g50 with w2v-g300     93.3       93.3         80  88.86666667      8.4   \n",
       "\n",
       "  Unnamed: 6 Unnamed: 7   Unnamed: 8 Min Win Time Unnamed: 10 Unnamed: 11  \\\n",
       "0     Medium       High      Average          Low      Medium        High   \n",
       "1        4.9        3.4  4.666666667            4           3           3   \n",
       "2        6.3        4.7  6.433333333            7           4           3   \n",
       "3        6.3          5  6.533333333            7           4           3   \n",
       "4        6.4        4.9  6.566666667            7           4           3   \n",
       "\n",
       "   Unnamed: 12  \n",
       "0      Average  \n",
       "1  3.333333333  \n",
       "2  4.666666667  \n",
       "3  4.666666667  \n",
       "4  4.666666667  "
      ]
     },
     "execution_count": 302,
     "metadata": {},
     "output_type": "execute_result"
    }
   ],
   "source": [
    "df.head()"
   ]
  },
  {
   "cell_type": "code",
   "execution_count": 303,
   "metadata": {},
   "outputs": [
    {
     "data": {
      "text/html": [
       "<div>\n",
       "<style scoped>\n",
       "    .dataframe tbody tr th:only-of-type {\n",
       "        vertical-align: middle;\n",
       "    }\n",
       "\n",
       "    .dataframe tbody tr th {\n",
       "        vertical-align: top;\n",
       "    }\n",
       "\n",
       "    .dataframe thead th {\n",
       "        text-align: right;\n",
       "    }\n",
       "</style>\n",
       "<table border=\"1\" class=\"dataframe\">\n",
       "  <thead>\n",
       "    <tr style=\"text-align: right;\">\n",
       "      <th></th>\n",
       "      <th>Unnamed: 0</th>\n",
       "      <th>Win Rate</th>\n",
       "      <th>Unnamed: 2</th>\n",
       "      <th>Unnamed: 3</th>\n",
       "      <th>Unnamed: 4</th>\n",
       "      <th>Win Time</th>\n",
       "      <th>Unnamed: 6</th>\n",
       "      <th>Unnamed: 7</th>\n",
       "      <th>Unnamed: 8</th>\n",
       "      <th>Min Win Time</th>\n",
       "      <th>Unnamed: 10</th>\n",
       "      <th>Unnamed: 11</th>\n",
       "      <th>Unnamed: 12</th>\n",
       "    </tr>\n",
       "  </thead>\n",
       "  <tbody>\n",
       "    <tr>\n",
       "      <th>1</th>\n",
       "      <td>w2v-g50 with w2v-g50</td>\n",
       "      <td>86.7</td>\n",
       "      <td>83.3</td>\n",
       "      <td>100</td>\n",
       "      <td>90</td>\n",
       "      <td>5.7</td>\n",
       "      <td>4.9</td>\n",
       "      <td>3.4</td>\n",
       "      <td>4.666666667</td>\n",
       "      <td>4</td>\n",
       "      <td>3</td>\n",
       "      <td>3</td>\n",
       "      <td>3.333333333</td>\n",
       "    </tr>\n",
       "    <tr>\n",
       "      <th>2</th>\n",
       "      <td>w2v-g50 with w2v-g100</td>\n",
       "      <td>96.7</td>\n",
       "      <td>96.7</td>\n",
       "      <td>86.7</td>\n",
       "      <td>93.36666667</td>\n",
       "      <td>8.3</td>\n",
       "      <td>6.3</td>\n",
       "      <td>4.7</td>\n",
       "      <td>6.433333333</td>\n",
       "      <td>7</td>\n",
       "      <td>4</td>\n",
       "      <td>3</td>\n",
       "      <td>4.666666667</td>\n",
       "    </tr>\n",
       "    <tr>\n",
       "      <th>3</th>\n",
       "      <td>w2v-g50 with w2v-g200</td>\n",
       "      <td>96.7</td>\n",
       "      <td>96.7</td>\n",
       "      <td>66.7</td>\n",
       "      <td>86.7</td>\n",
       "      <td>8.3</td>\n",
       "      <td>6.3</td>\n",
       "      <td>5</td>\n",
       "      <td>6.533333333</td>\n",
       "      <td>7</td>\n",
       "      <td>4</td>\n",
       "      <td>3</td>\n",
       "      <td>4.666666667</td>\n",
       "    </tr>\n",
       "    <tr>\n",
       "      <th>4</th>\n",
       "      <td>w2v-g50 with w2v-g300</td>\n",
       "      <td>93.3</td>\n",
       "      <td>93.3</td>\n",
       "      <td>80</td>\n",
       "      <td>88.86666667</td>\n",
       "      <td>8.4</td>\n",
       "      <td>6.4</td>\n",
       "      <td>4.9</td>\n",
       "      <td>6.566666667</td>\n",
       "      <td>7</td>\n",
       "      <td>4</td>\n",
       "      <td>3</td>\n",
       "      <td>4.666666667</td>\n",
       "    </tr>\n",
       "    <tr>\n",
       "      <th>5</th>\n",
       "      <td>w2v-g50 with w2v</td>\n",
       "      <td>90</td>\n",
       "      <td>86.7</td>\n",
       "      <td>66.7</td>\n",
       "      <td>81.13333333</td>\n",
       "      <td>9.1</td>\n",
       "      <td>7.4</td>\n",
       "      <td>6.2</td>\n",
       "      <td>7.566666667</td>\n",
       "      <td>7</td>\n",
       "      <td>5</td>\n",
       "      <td>5</td>\n",
       "      <td>5.666666667</td>\n",
       "    </tr>\n",
       "  </tbody>\n",
       "</table>\n",
       "</div>"
      ],
      "text/plain": [
       "              Unnamed: 0 Win Rate Unnamed: 2 Unnamed: 3   Unnamed: 4 Win Time  \\\n",
       "1   w2v-g50 with w2v-g50     86.7       83.3        100           90      5.7   \n",
       "2  w2v-g50 with w2v-g100     96.7       96.7       86.7  93.36666667      8.3   \n",
       "3  w2v-g50 with w2v-g200     96.7       96.7       66.7         86.7      8.3   \n",
       "4  w2v-g50 with w2v-g300     93.3       93.3         80  88.86666667      8.4   \n",
       "5       w2v-g50 with w2v       90       86.7       66.7  81.13333333      9.1   \n",
       "\n",
       "  Unnamed: 6 Unnamed: 7   Unnamed: 8 Min Win Time Unnamed: 10 Unnamed: 11  \\\n",
       "1        4.9        3.4  4.666666667            4           3           3   \n",
       "2        6.3        4.7  6.433333333            7           4           3   \n",
       "3        6.3          5  6.533333333            7           4           3   \n",
       "4        6.4        4.9  6.566666667            7           4           3   \n",
       "5        7.4        6.2  7.566666667            7           5           5   \n",
       "\n",
       "   Unnamed: 12  \n",
       "1  3.333333333  \n",
       "2  4.666666667  \n",
       "3  4.666666667  \n",
       "4  4.666666667  \n",
       "5  5.666666667  "
      ]
     },
     "execution_count": 303,
     "metadata": {},
     "output_type": "execute_result"
    }
   ],
   "source": [
    "#This is the data we'll use\n",
    "dfc = df.iloc[1:, :]\n",
    "dfc.head()"
   ]
  },
  {
   "cell_type": "code",
   "execution_count": 304,
   "metadata": {},
   "outputs": [
    {
     "data": {
      "text/plain": [
       "13"
      ]
     },
     "execution_count": 304,
     "metadata": {},
     "output_type": "execute_result"
    }
   ],
   "source": [
    "len(dfc.columns)"
   ]
  },
  {
   "cell_type": "code",
   "execution_count": 305,
   "metadata": {},
   "outputs": [],
   "source": [
    "new_cols = [df.iloc[0, 0]]\n",
    "for t, d in zip(list(df.columns)[1:], list(df.iloc[0, 1:])):\n",
    "    if \"Unnamed\" not in t:\n",
    "        curr_stat = t\n",
    "    new_cols.append(d + \" ~ \" + curr_stat)"
   ]
  },
  {
   "cell_type": "code",
   "execution_count": 306,
   "metadata": {},
   "outputs": [
    {
     "data": {
      "text/plain": [
       "13"
      ]
     },
     "execution_count": 306,
     "metadata": {},
     "output_type": "execute_result"
    }
   ],
   "source": [
    "len(new_cols)"
   ]
  },
  {
   "cell_type": "code",
   "execution_count": 307,
   "metadata": {},
   "outputs": [
    {
     "data": {
      "text/plain": [
       "'Team'"
      ]
     },
     "execution_count": 307,
     "metadata": {},
     "output_type": "execute_result"
    }
   ],
   "source": [
    "new_cols[0]"
   ]
  },
  {
   "cell_type": "code",
   "execution_count": 308,
   "metadata": {},
   "outputs": [],
   "source": [
    "data = pd.DataFrame(dfc.to_numpy(), columns=new_cols)"
   ]
  },
  {
   "cell_type": "code",
   "execution_count": 309,
   "metadata": {},
   "outputs": [],
   "source": [
    "data.set_index(new_cols[0], inplace=True)"
   ]
  },
  {
   "cell_type": "code",
   "execution_count": 310,
   "metadata": {},
   "outputs": [],
   "source": [
    "data = data.astype(float)"
   ]
  },
  {
   "cell_type": "code",
   "execution_count": 311,
   "metadata": {},
   "outputs": [
    {
     "data": {
      "text/html": [
       "<div>\n",
       "<style scoped>\n",
       "    .dataframe tbody tr th:only-of-type {\n",
       "        vertical-align: middle;\n",
       "    }\n",
       "\n",
       "    .dataframe tbody tr th {\n",
       "        vertical-align: top;\n",
       "    }\n",
       "\n",
       "    .dataframe thead th {\n",
       "        text-align: right;\n",
       "    }\n",
       "</style>\n",
       "<table border=\"1\" class=\"dataframe\">\n",
       "  <thead>\n",
       "    <tr style=\"text-align: right;\">\n",
       "      <th></th>\n",
       "      <th>Low ~ Win Rate</th>\n",
       "      <th>Medium ~ Win Rate</th>\n",
       "      <th>High ~ Win Rate</th>\n",
       "      <th>Average ~ Win Rate</th>\n",
       "      <th>Low ~ Win Time</th>\n",
       "      <th>Medium ~ Win Time</th>\n",
       "      <th>High ~ Win Time</th>\n",
       "      <th>Average ~ Win Time</th>\n",
       "      <th>Low ~ Min Win Time</th>\n",
       "      <th>Medium ~ Min Win Time</th>\n",
       "      <th>High ~ Min Win Time</th>\n",
       "      <th>Average ~ Min Win Time</th>\n",
       "    </tr>\n",
       "    <tr>\n",
       "      <th>Team</th>\n",
       "      <th></th>\n",
       "      <th></th>\n",
       "      <th></th>\n",
       "      <th></th>\n",
       "      <th></th>\n",
       "      <th></th>\n",
       "      <th></th>\n",
       "      <th></th>\n",
       "      <th></th>\n",
       "      <th></th>\n",
       "      <th></th>\n",
       "      <th></th>\n",
       "    </tr>\n",
       "  </thead>\n",
       "  <tbody>\n",
       "    <tr>\n",
       "      <th>w2v-g50 with w2v-g50</th>\n",
       "      <td>86.7</td>\n",
       "      <td>83.3</td>\n",
       "      <td>100.0</td>\n",
       "      <td>90.000000</td>\n",
       "      <td>5.7</td>\n",
       "      <td>4.9</td>\n",
       "      <td>3.4</td>\n",
       "      <td>4.666667</td>\n",
       "      <td>4.0</td>\n",
       "      <td>3.0</td>\n",
       "      <td>3.0</td>\n",
       "      <td>3.333333</td>\n",
       "    </tr>\n",
       "    <tr>\n",
       "      <th>w2v-g50 with w2v-g100</th>\n",
       "      <td>96.7</td>\n",
       "      <td>96.7</td>\n",
       "      <td>86.7</td>\n",
       "      <td>93.366667</td>\n",
       "      <td>8.3</td>\n",
       "      <td>6.3</td>\n",
       "      <td>4.7</td>\n",
       "      <td>6.433333</td>\n",
       "      <td>7.0</td>\n",
       "      <td>4.0</td>\n",
       "      <td>3.0</td>\n",
       "      <td>4.666667</td>\n",
       "    </tr>\n",
       "    <tr>\n",
       "      <th>w2v-g50 with w2v-g200</th>\n",
       "      <td>96.7</td>\n",
       "      <td>96.7</td>\n",
       "      <td>66.7</td>\n",
       "      <td>86.700000</td>\n",
       "      <td>8.3</td>\n",
       "      <td>6.3</td>\n",
       "      <td>5.0</td>\n",
       "      <td>6.533333</td>\n",
       "      <td>7.0</td>\n",
       "      <td>4.0</td>\n",
       "      <td>3.0</td>\n",
       "      <td>4.666667</td>\n",
       "    </tr>\n",
       "    <tr>\n",
       "      <th>w2v-g50 with w2v-g300</th>\n",
       "      <td>93.3</td>\n",
       "      <td>93.3</td>\n",
       "      <td>80.0</td>\n",
       "      <td>88.866667</td>\n",
       "      <td>8.4</td>\n",
       "      <td>6.4</td>\n",
       "      <td>4.9</td>\n",
       "      <td>6.566667</td>\n",
       "      <td>7.0</td>\n",
       "      <td>4.0</td>\n",
       "      <td>3.0</td>\n",
       "      <td>4.666667</td>\n",
       "    </tr>\n",
       "    <tr>\n",
       "      <th>w2v-g50 with w2v</th>\n",
       "      <td>90.0</td>\n",
       "      <td>86.7</td>\n",
       "      <td>66.7</td>\n",
       "      <td>81.133333</td>\n",
       "      <td>9.1</td>\n",
       "      <td>7.4</td>\n",
       "      <td>6.2</td>\n",
       "      <td>7.566667</td>\n",
       "      <td>7.0</td>\n",
       "      <td>5.0</td>\n",
       "      <td>5.0</td>\n",
       "      <td>5.666667</td>\n",
       "    </tr>\n",
       "  </tbody>\n",
       "</table>\n",
       "</div>"
      ],
      "text/plain": [
       "                       Low ~ Win Rate  Medium ~ Win Rate  High ~ Win Rate  \\\n",
       "Team                                                                        \n",
       "w2v-g50 with w2v-g50             86.7               83.3            100.0   \n",
       "w2v-g50 with w2v-g100            96.7               96.7             86.7   \n",
       "w2v-g50 with w2v-g200            96.7               96.7             66.7   \n",
       "w2v-g50 with w2v-g300            93.3               93.3             80.0   \n",
       "w2v-g50 with w2v                 90.0               86.7             66.7   \n",
       "\n",
       "                       Average ~ Win Rate  Low ~ Win Time  Medium ~ Win Time  \\\n",
       "Team                                                                           \n",
       "w2v-g50 with w2v-g50            90.000000             5.7                4.9   \n",
       "w2v-g50 with w2v-g100           93.366667             8.3                6.3   \n",
       "w2v-g50 with w2v-g200           86.700000             8.3                6.3   \n",
       "w2v-g50 with w2v-g300           88.866667             8.4                6.4   \n",
       "w2v-g50 with w2v                81.133333             9.1                7.4   \n",
       "\n",
       "                       High ~ Win Time  Average ~ Win Time  \\\n",
       "Team                                                         \n",
       "w2v-g50 with w2v-g50               3.4            4.666667   \n",
       "w2v-g50 with w2v-g100              4.7            6.433333   \n",
       "w2v-g50 with w2v-g200              5.0            6.533333   \n",
       "w2v-g50 with w2v-g300              4.9            6.566667   \n",
       "w2v-g50 with w2v                   6.2            7.566667   \n",
       "\n",
       "                       Low ~ Min Win Time  Medium ~ Min Win Time  \\\n",
       "Team                                                               \n",
       "w2v-g50 with w2v-g50                  4.0                    3.0   \n",
       "w2v-g50 with w2v-g100                 7.0                    4.0   \n",
       "w2v-g50 with w2v-g200                 7.0                    4.0   \n",
       "w2v-g50 with w2v-g300                 7.0                    4.0   \n",
       "w2v-g50 with w2v                      7.0                    5.0   \n",
       "\n",
       "                       High ~ Min Win Time  Average ~ Min Win Time  \n",
       "Team                                                                \n",
       "w2v-g50 with w2v-g50                   3.0                3.333333  \n",
       "w2v-g50 with w2v-g100                  3.0                4.666667  \n",
       "w2v-g50 with w2v-g200                  3.0                4.666667  \n",
       "w2v-g50 with w2v-g300                  3.0                4.666667  \n",
       "w2v-g50 with w2v                       5.0                5.666667  "
      ]
     },
     "execution_count": 311,
     "metadata": {},
     "output_type": "execute_result"
    }
   ],
   "source": [
    "data.head()"
   ]
  },
  {
   "cell_type": "code",
   "execution_count": 312,
   "metadata": {},
   "outputs": [],
   "source": [
    "for c in [e for e in data.columns if \"Win Rate\" in e]:\n",
    "    data[c] = data[c] / 100\n"
   ]
  },
  {
   "cell_type": "code",
   "execution_count": 313,
   "metadata": {},
   "outputs": [
    {
     "data": {
      "text/html": [
       "<div>\n",
       "<style scoped>\n",
       "    .dataframe tbody tr th:only-of-type {\n",
       "        vertical-align: middle;\n",
       "    }\n",
       "\n",
       "    .dataframe tbody tr th {\n",
       "        vertical-align: top;\n",
       "    }\n",
       "\n",
       "    .dataframe thead th {\n",
       "        text-align: right;\n",
       "    }\n",
       "</style>\n",
       "<table border=\"1\" class=\"dataframe\">\n",
       "  <thead>\n",
       "    <tr style=\"text-align: right;\">\n",
       "      <th></th>\n",
       "      <th>Low ~ Win Rate</th>\n",
       "      <th>Medium ~ Win Rate</th>\n",
       "      <th>High ~ Win Rate</th>\n",
       "      <th>Average ~ Win Rate</th>\n",
       "      <th>Low ~ Win Time</th>\n",
       "      <th>Medium ~ Win Time</th>\n",
       "      <th>High ~ Win Time</th>\n",
       "      <th>Average ~ Win Time</th>\n",
       "      <th>Low ~ Min Win Time</th>\n",
       "      <th>Medium ~ Min Win Time</th>\n",
       "      <th>High ~ Min Win Time</th>\n",
       "      <th>Average ~ Min Win Time</th>\n",
       "    </tr>\n",
       "    <tr>\n",
       "      <th>Team</th>\n",
       "      <th></th>\n",
       "      <th></th>\n",
       "      <th></th>\n",
       "      <th></th>\n",
       "      <th></th>\n",
       "      <th></th>\n",
       "      <th></th>\n",
       "      <th></th>\n",
       "      <th></th>\n",
       "      <th></th>\n",
       "      <th></th>\n",
       "      <th></th>\n",
       "    </tr>\n",
       "  </thead>\n",
       "  <tbody>\n",
       "    <tr>\n",
       "      <th>w2v-g50 with w2v-g50</th>\n",
       "      <td>0.867</td>\n",
       "      <td>0.833</td>\n",
       "      <td>1.000</td>\n",
       "      <td>0.900000</td>\n",
       "      <td>5.7</td>\n",
       "      <td>4.9</td>\n",
       "      <td>3.4</td>\n",
       "      <td>4.666667</td>\n",
       "      <td>4.0</td>\n",
       "      <td>3.0</td>\n",
       "      <td>3.0</td>\n",
       "      <td>3.333333</td>\n",
       "    </tr>\n",
       "    <tr>\n",
       "      <th>w2v-g50 with w2v-g100</th>\n",
       "      <td>0.967</td>\n",
       "      <td>0.967</td>\n",
       "      <td>0.867</td>\n",
       "      <td>0.933667</td>\n",
       "      <td>8.3</td>\n",
       "      <td>6.3</td>\n",
       "      <td>4.7</td>\n",
       "      <td>6.433333</td>\n",
       "      <td>7.0</td>\n",
       "      <td>4.0</td>\n",
       "      <td>3.0</td>\n",
       "      <td>4.666667</td>\n",
       "    </tr>\n",
       "    <tr>\n",
       "      <th>w2v-g50 with w2v-g200</th>\n",
       "      <td>0.967</td>\n",
       "      <td>0.967</td>\n",
       "      <td>0.667</td>\n",
       "      <td>0.867000</td>\n",
       "      <td>8.3</td>\n",
       "      <td>6.3</td>\n",
       "      <td>5.0</td>\n",
       "      <td>6.533333</td>\n",
       "      <td>7.0</td>\n",
       "      <td>4.0</td>\n",
       "      <td>3.0</td>\n",
       "      <td>4.666667</td>\n",
       "    </tr>\n",
       "    <tr>\n",
       "      <th>w2v-g50 with w2v-g300</th>\n",
       "      <td>0.933</td>\n",
       "      <td>0.933</td>\n",
       "      <td>0.800</td>\n",
       "      <td>0.888667</td>\n",
       "      <td>8.4</td>\n",
       "      <td>6.4</td>\n",
       "      <td>4.9</td>\n",
       "      <td>6.566667</td>\n",
       "      <td>7.0</td>\n",
       "      <td>4.0</td>\n",
       "      <td>3.0</td>\n",
       "      <td>4.666667</td>\n",
       "    </tr>\n",
       "    <tr>\n",
       "      <th>w2v-g50 with w2v</th>\n",
       "      <td>0.900</td>\n",
       "      <td>0.867</td>\n",
       "      <td>0.667</td>\n",
       "      <td>0.811333</td>\n",
       "      <td>9.1</td>\n",
       "      <td>7.4</td>\n",
       "      <td>6.2</td>\n",
       "      <td>7.566667</td>\n",
       "      <td>7.0</td>\n",
       "      <td>5.0</td>\n",
       "      <td>5.0</td>\n",
       "      <td>5.666667</td>\n",
       "    </tr>\n",
       "  </tbody>\n",
       "</table>\n",
       "</div>"
      ],
      "text/plain": [
       "                       Low ~ Win Rate  Medium ~ Win Rate  High ~ Win Rate  \\\n",
       "Team                                                                        \n",
       "w2v-g50 with w2v-g50            0.867              0.833            1.000   \n",
       "w2v-g50 with w2v-g100           0.967              0.967            0.867   \n",
       "w2v-g50 with w2v-g200           0.967              0.967            0.667   \n",
       "w2v-g50 with w2v-g300           0.933              0.933            0.800   \n",
       "w2v-g50 with w2v                0.900              0.867            0.667   \n",
       "\n",
       "                       Average ~ Win Rate  Low ~ Win Time  Medium ~ Win Time  \\\n",
       "Team                                                                           \n",
       "w2v-g50 with w2v-g50             0.900000             5.7                4.9   \n",
       "w2v-g50 with w2v-g100            0.933667             8.3                6.3   \n",
       "w2v-g50 with w2v-g200            0.867000             8.3                6.3   \n",
       "w2v-g50 with w2v-g300            0.888667             8.4                6.4   \n",
       "w2v-g50 with w2v                 0.811333             9.1                7.4   \n",
       "\n",
       "                       High ~ Win Time  Average ~ Win Time  \\\n",
       "Team                                                         \n",
       "w2v-g50 with w2v-g50               3.4            4.666667   \n",
       "w2v-g50 with w2v-g100              4.7            6.433333   \n",
       "w2v-g50 with w2v-g200              5.0            6.533333   \n",
       "w2v-g50 with w2v-g300              4.9            6.566667   \n",
       "w2v-g50 with w2v                   6.2            7.566667   \n",
       "\n",
       "                       Low ~ Min Win Time  Medium ~ Min Win Time  \\\n",
       "Team                                                               \n",
       "w2v-g50 with w2v-g50                  4.0                    3.0   \n",
       "w2v-g50 with w2v-g100                 7.0                    4.0   \n",
       "w2v-g50 with w2v-g200                 7.0                    4.0   \n",
       "w2v-g50 with w2v-g300                 7.0                    4.0   \n",
       "w2v-g50 with w2v                      7.0                    5.0   \n",
       "\n",
       "                       High ~ Min Win Time  Average ~ Min Win Time  \n",
       "Team                                                                \n",
       "w2v-g50 with w2v-g50                   3.0                3.333333  \n",
       "w2v-g50 with w2v-g100                  3.0                4.666667  \n",
       "w2v-g50 with w2v-g200                  3.0                4.666667  \n",
       "w2v-g50 with w2v-g300                  3.0                4.666667  \n",
       "w2v-g50 with w2v                       5.0                5.666667  "
      ]
     },
     "execution_count": 313,
     "metadata": {},
     "output_type": "execute_result"
    }
   ],
   "source": [
    "data.head()"
   ]
  },
  {
   "cell_type": "code",
   "execution_count": 320,
   "metadata": {},
   "outputs": [],
   "source": [
    "#Now we use our pipe to predict scores \n",
    "low_indices = [i for i in range(len(data.columns)) if \"Low\" in list(data.columns)[i]]\n",
    "med_indices = [i for i in range(len(data.columns)) if \"Medium\" in list(data.columns)[i]]\n",
    "high_indices = [i for i in range(len(data.columns)) if \"High\" in list(data.columns)[i]]\n",
    "avg_indices = [i for i in range(len(data.columns)) if \"Average\" in list(data.columns)[i]]"
   ]
  },
  {
   "cell_type": "code",
   "execution_count": 322,
   "metadata": {},
   "outputs": [],
   "source": [
    "low_data = data.iloc[:, low_indices]\n",
    "med_data = data.iloc[:, med_indices]\n",
    "high_data = data.iloc[:, high_indices]\n",
    "avg_data = data.iloc[:, avg_indices]"
   ]
  },
  {
   "cell_type": "code",
   "execution_count": 323,
   "metadata": {},
   "outputs": [],
   "source": [
    "low_features = low_data.drop(columns=[i for i in low_data.columns if \"Min Win Time\" in i])\n",
    "med_features = med_data.drop(columns=[i for i in med_data.columns if \"Min Win Time\" in i])\n",
    "high_features = high_data.drop(columns=[i for i in high_data.columns if \"Min Win Time\" in i])\n",
    "avg_features = avg_data.drop(columns=[i for i in avg_data.columns if \"Min Win Time\" in i])"
   ]
  },
  {
   "cell_type": "code",
   "execution_count": 324,
   "metadata": {},
   "outputs": [],
   "source": [
    "low_preds = pipe.predict(low_features.to_numpy())\n",
    "med_preds = pipe.predict(med_features.to_numpy())\n",
    "high_preds = pipe.predict(high_features.to_numpy())\n",
    "avg_preds = pipe.predict(avg_features.to_numpy())"
   ]
  },
  {
   "cell_type": "code",
   "execution_count": 325,
   "metadata": {},
   "outputs": [],
   "source": [
    "temp_data = np.concatenate([low_preds, med_preds, high_preds, avg_preds], axis=1)"
   ]
  },
  {
   "cell_type": "code",
   "execution_count": 326,
   "metadata": {},
   "outputs": [],
   "source": [
    "colt_df = pd.DataFrame(temp_data, columns=[\"Low ~ CoLT\", \"Medium ~ CoLT\", \"High ~ CoLT\", \"Average ~ CoLT\"])\n"
   ]
  },
  {
   "cell_type": "code",
   "execution_count": 327,
   "metadata": {},
   "outputs": [
    {
     "data": {
      "text/html": [
       "<div>\n",
       "<style scoped>\n",
       "    .dataframe tbody tr th:only-of-type {\n",
       "        vertical-align: middle;\n",
       "    }\n",
       "\n",
       "    .dataframe tbody tr th {\n",
       "        vertical-align: top;\n",
       "    }\n",
       "\n",
       "    .dataframe thead th {\n",
       "        text-align: right;\n",
       "    }\n",
       "</style>\n",
       "<table border=\"1\" class=\"dataframe\">\n",
       "  <thead>\n",
       "    <tr style=\"text-align: right;\">\n",
       "      <th></th>\n",
       "      <th>Low ~ CoLT</th>\n",
       "      <th>Medium ~ CoLT</th>\n",
       "      <th>High ~ CoLT</th>\n",
       "      <th>Average ~ CoLT</th>\n",
       "    </tr>\n",
       "  </thead>\n",
       "  <tbody>\n",
       "    <tr>\n",
       "      <th>0</th>\n",
       "      <td>0.531514</td>\n",
       "      <td>0.771561</td>\n",
       "      <td>2.344702</td>\n",
       "      <td>1.159755</td>\n",
       "    </tr>\n",
       "    <tr>\n",
       "      <th>1</th>\n",
       "      <td>-0.003139</td>\n",
       "      <td>0.681528</td>\n",
       "      <td>1.010557</td>\n",
       "      <td>0.496668</td>\n",
       "    </tr>\n",
       "    <tr>\n",
       "      <th>2</th>\n",
       "      <td>-0.003139</td>\n",
       "      <td>0.681528</td>\n",
       "      <td>0.059792</td>\n",
       "      <td>0.192661</td>\n",
       "    </tr>\n",
       "    <tr>\n",
       "      <th>3</th>\n",
       "      <td>-0.168389</td>\n",
       "      <td>0.506911</td>\n",
       "      <td>0.640039</td>\n",
       "      <td>0.266377</td>\n",
       "    </tr>\n",
       "    <tr>\n",
       "      <th>4</th>\n",
       "      <td>-0.498684</td>\n",
       "      <td>-0.116668</td>\n",
       "      <td>-0.474400</td>\n",
       "      <td>-0.393840</td>\n",
       "    </tr>\n",
       "  </tbody>\n",
       "</table>\n",
       "</div>"
      ],
      "text/plain": [
       "   Low ~ CoLT  Medium ~ CoLT  High ~ CoLT  Average ~ CoLT\n",
       "0    0.531514       0.771561     2.344702        1.159755\n",
       "1   -0.003139       0.681528     1.010557        0.496668\n",
       "2   -0.003139       0.681528     0.059792        0.192661\n",
       "3   -0.168389       0.506911     0.640039        0.266377\n",
       "4   -0.498684      -0.116668    -0.474400       -0.393840"
      ]
     },
     "execution_count": 327,
     "metadata": {},
     "output_type": "execute_result"
    }
   ],
   "source": [
    "colt_df.head()"
   ]
  },
  {
   "cell_type": "code",
   "execution_count": 328,
   "metadata": {},
   "outputs": [
    {
     "data": {
      "text/plain": [
       "{'Low ~ CoLT': 0, 'Medium ~ CoLT': 0, 'High ~ CoLT': 0, 'Average ~ CoLT': 0}"
      ]
     },
     "execution_count": 328,
     "metadata": {},
     "output_type": "execute_result"
    }
   ],
   "source": [
    "counts = {e:0 for e in colt_df.columns}\n",
    "counts"
   ]
  },
  {
   "cell_type": "code",
   "execution_count": 329,
   "metadata": {},
   "outputs": [],
   "source": [
    "bests = np.array([list(colt_df.columns)[np.argmax(row)] for row in colt_df.to_numpy()]).reshape(-1, 1)"
   ]
  },
  {
   "cell_type": "code",
   "execution_count": 330,
   "metadata": {},
   "outputs": [
    {
     "data": {
      "text/plain": [
       "{'Low ~ CoLT': 1, 'Medium ~ CoLT': 5, 'High ~ CoLT': 34, 'Average ~ CoLT': 0}"
      ]
     },
     "execution_count": 330,
     "metadata": {},
     "output_type": "execute_result"
    }
   ],
   "source": [
    "for e in bests:\n",
    "    counts[e[0]] += 1\n",
    "counts"
   ]
  },
  {
   "cell_type": "code",
   "execution_count": 332,
   "metadata": {},
   "outputs": [],
   "source": [
    "colt_df[\"Best Team\"] = bests"
   ]
  },
  {
   "cell_type": "code",
   "execution_count": 333,
   "metadata": {},
   "outputs": [
    {
     "data": {
      "text/html": [
       "<div>\n",
       "<style scoped>\n",
       "    .dataframe tbody tr th:only-of-type {\n",
       "        vertical-align: middle;\n",
       "    }\n",
       "\n",
       "    .dataframe tbody tr th {\n",
       "        vertical-align: top;\n",
       "    }\n",
       "\n",
       "    .dataframe thead th {\n",
       "        text-align: right;\n",
       "    }\n",
       "</style>\n",
       "<table border=\"1\" class=\"dataframe\">\n",
       "  <thead>\n",
       "    <tr style=\"text-align: right;\">\n",
       "      <th></th>\n",
       "      <th>Low ~ CoLT</th>\n",
       "      <th>Medium ~ CoLT</th>\n",
       "      <th>High ~ CoLT</th>\n",
       "      <th>Average ~ CoLT</th>\n",
       "      <th>Best Team</th>\n",
       "    </tr>\n",
       "  </thead>\n",
       "  <tbody>\n",
       "    <tr>\n",
       "      <th>0</th>\n",
       "      <td>0.531514</td>\n",
       "      <td>0.771561</td>\n",
       "      <td>2.344702</td>\n",
       "      <td>1.159755</td>\n",
       "      <td>High ~ CoLT</td>\n",
       "    </tr>\n",
       "    <tr>\n",
       "      <th>1</th>\n",
       "      <td>-0.003139</td>\n",
       "      <td>0.681528</td>\n",
       "      <td>1.010557</td>\n",
       "      <td>0.496668</td>\n",
       "      <td>High ~ CoLT</td>\n",
       "    </tr>\n",
       "    <tr>\n",
       "      <th>2</th>\n",
       "      <td>-0.003139</td>\n",
       "      <td>0.681528</td>\n",
       "      <td>0.059792</td>\n",
       "      <td>0.192661</td>\n",
       "      <td>Medium ~ CoLT</td>\n",
       "    </tr>\n",
       "    <tr>\n",
       "      <th>3</th>\n",
       "      <td>-0.168389</td>\n",
       "      <td>0.506911</td>\n",
       "      <td>0.640039</td>\n",
       "      <td>0.266377</td>\n",
       "      <td>High ~ CoLT</td>\n",
       "    </tr>\n",
       "    <tr>\n",
       "      <th>4</th>\n",
       "      <td>-0.498684</td>\n",
       "      <td>-0.116668</td>\n",
       "      <td>-0.474400</td>\n",
       "      <td>-0.393840</td>\n",
       "      <td>Medium ~ CoLT</td>\n",
       "    </tr>\n",
       "  </tbody>\n",
       "</table>\n",
       "</div>"
      ],
      "text/plain": [
       "   Low ~ CoLT  Medium ~ CoLT  High ~ CoLT  Average ~ CoLT      Best Team\n",
       "0    0.531514       0.771561     2.344702        1.159755    High ~ CoLT\n",
       "1   -0.003139       0.681528     1.010557        0.496668    High ~ CoLT\n",
       "2   -0.003139       0.681528     0.059792        0.192661  Medium ~ CoLT\n",
       "3   -0.168389       0.506911     0.640039        0.266377    High ~ CoLT\n",
       "4   -0.498684      -0.116668    -0.474400       -0.393840  Medium ~ CoLT"
      ]
     },
     "execution_count": 333,
     "metadata": {},
     "output_type": "execute_result"
    }
   ],
   "source": [
    "colt_df.head()"
   ]
  },
  {
   "cell_type": "code",
   "execution_count": 334,
   "metadata": {},
   "outputs": [
    {
     "data": {
      "text/plain": [
       "Index(['w2v-g50 with w2v-g50', 'w2v-g50 with w2v-g100',\n",
       "       'w2v-g50 with w2v-g200', 'w2v-g50 with w2v-g300', 'w2v-g50 with w2v',\n",
       "       'w2v-g50 with g50', 'w2v-g50 with g100', 'w2v-g50 with g200',\n",
       "       'w2v-g50 with g300', 'Average', 'w2v-g100 with w2v-g50',\n",
       "       'w2v-g100 with w2v-g100', 'w2v-g100 with w2v-g200',\n",
       "       'w2v-g100 with w2v-g300', 'w2v-g100 with w2v', 'w2v-g100 with g50',\n",
       "       'w2v-g100 with g100', 'w2v-g100 with g200', 'w2v-g100 with g300',\n",
       "       'Average', 'w2v-g200 with w2v-g50', 'w2v-g200 with w2v-g100',\n",
       "       'w2v-g200 with w2v-g200', 'w2v-g200 with w2v-g300', 'w2v-g200 with w2v',\n",
       "       'w2v-g200 with g50', 'w2v-g200 with g100', 'w2v-g200 with g200',\n",
       "       'w2v-g200 with g300', 'Average', 'w2v-g300 with w2v-g50',\n",
       "       'w2v-g300 with w2v-g100', 'w2v-g300 with w2v-g200',\n",
       "       'w2v-g300 with w2v-g300', 'w2v-g300 with w2v', 'w2v-g300 with g50',\n",
       "       'w2v-g300 with g100', 'w2v-g300 with g200', 'w2v-g300 with g300',\n",
       "       'Average'],\n",
       "      dtype='object', name='Team')"
      ]
     },
     "execution_count": 334,
     "metadata": {},
     "output_type": "execute_result"
    }
   ],
   "source": [
    "data.index"
   ]
  },
  {
   "cell_type": "code",
   "execution_count": 335,
   "metadata": {},
   "outputs": [
    {
     "data": {
      "text/plain": [
       "array(['w2v-g50 with w2v-g50'], dtype=object)"
      ]
     },
     "execution_count": 335,
     "metadata": {},
     "output_type": "execute_result"
    }
   ],
   "source": [
    "teams = np.array(data.index)\n",
    "teams = teams.reshape(-1, 1)\n",
    "teams[0]"
   ]
  },
  {
   "cell_type": "code",
   "execution_count": 336,
   "metadata": {},
   "outputs": [],
   "source": [
    "colt_df.insert(0, \"Team\", teams)"
   ]
  },
  {
   "cell_type": "code",
   "execution_count": 337,
   "metadata": {},
   "outputs": [],
   "source": [
    "colt_df.set_index(\"Team\", inplace=True)"
   ]
  },
  {
   "cell_type": "code",
   "execution_count": 338,
   "metadata": {},
   "outputs": [
    {
     "data": {
      "text/html": [
       "<div>\n",
       "<style scoped>\n",
       "    .dataframe tbody tr th:only-of-type {\n",
       "        vertical-align: middle;\n",
       "    }\n",
       "\n",
       "    .dataframe tbody tr th {\n",
       "        vertical-align: top;\n",
       "    }\n",
       "\n",
       "    .dataframe thead th {\n",
       "        text-align: right;\n",
       "    }\n",
       "</style>\n",
       "<table border=\"1\" class=\"dataframe\">\n",
       "  <thead>\n",
       "    <tr style=\"text-align: right;\">\n",
       "      <th></th>\n",
       "      <th>Low ~ CoLT</th>\n",
       "      <th>Medium ~ CoLT</th>\n",
       "      <th>High ~ CoLT</th>\n",
       "      <th>Average ~ CoLT</th>\n",
       "      <th>Best Team</th>\n",
       "    </tr>\n",
       "    <tr>\n",
       "      <th>Team</th>\n",
       "      <th></th>\n",
       "      <th></th>\n",
       "      <th></th>\n",
       "      <th></th>\n",
       "      <th></th>\n",
       "    </tr>\n",
       "  </thead>\n",
       "  <tbody>\n",
       "    <tr>\n",
       "      <th>w2v-g50 with w2v-g50</th>\n",
       "      <td>0.531514</td>\n",
       "      <td>0.771561</td>\n",
       "      <td>2.344702</td>\n",
       "      <td>1.159755</td>\n",
       "      <td>High ~ CoLT</td>\n",
       "    </tr>\n",
       "    <tr>\n",
       "      <th>w2v-g50 with w2v-g100</th>\n",
       "      <td>-0.003139</td>\n",
       "      <td>0.681528</td>\n",
       "      <td>1.010557</td>\n",
       "      <td>0.496668</td>\n",
       "      <td>High ~ CoLT</td>\n",
       "    </tr>\n",
       "    <tr>\n",
       "      <th>w2v-g50 with w2v-g200</th>\n",
       "      <td>-0.003139</td>\n",
       "      <td>0.681528</td>\n",
       "      <td>0.059792</td>\n",
       "      <td>0.192661</td>\n",
       "      <td>Medium ~ CoLT</td>\n",
       "    </tr>\n",
       "    <tr>\n",
       "      <th>w2v-g50 with w2v-g300</th>\n",
       "      <td>-0.168389</td>\n",
       "      <td>0.506911</td>\n",
       "      <td>0.640039</td>\n",
       "      <td>0.266377</td>\n",
       "      <td>High ~ CoLT</td>\n",
       "    </tr>\n",
       "    <tr>\n",
       "      <th>w2v-g50 with w2v</th>\n",
       "      <td>-0.498684</td>\n",
       "      <td>-0.116668</td>\n",
       "      <td>-0.474400</td>\n",
       "      <td>-0.393840</td>\n",
       "      <td>Medium ~ CoLT</td>\n",
       "    </tr>\n",
       "  </tbody>\n",
       "</table>\n",
       "</div>"
      ],
      "text/plain": [
       "                       Low ~ CoLT  Medium ~ CoLT  High ~ CoLT  Average ~ CoLT  \\\n",
       "Team                                                                            \n",
       "w2v-g50 with w2v-g50     0.531514       0.771561     2.344702        1.159755   \n",
       "w2v-g50 with w2v-g100   -0.003139       0.681528     1.010557        0.496668   \n",
       "w2v-g50 with w2v-g200   -0.003139       0.681528     0.059792        0.192661   \n",
       "w2v-g50 with w2v-g300   -0.168389       0.506911     0.640039        0.266377   \n",
       "w2v-g50 with w2v        -0.498684      -0.116668    -0.474400       -0.393840   \n",
       "\n",
       "                           Best Team  \n",
       "Team                                  \n",
       "w2v-g50 with w2v-g50     High ~ CoLT  \n",
       "w2v-g50 with w2v-g100    High ~ CoLT  \n",
       "w2v-g50 with w2v-g200  Medium ~ CoLT  \n",
       "w2v-g50 with w2v-g300    High ~ CoLT  \n",
       "w2v-g50 with w2v       Medium ~ CoLT  "
      ]
     },
     "execution_count": 338,
     "metadata": {},
     "output_type": "execute_result"
    }
   ],
   "source": [
    "colt_df.head()"
   ]
  },
  {
   "cell_type": "code",
   "execution_count": 300,
   "metadata": {},
   "outputs": [],
   "source": [
    "save_path = \"/Users/spencerbrosnahan/Documents/GitHub/codenames-ai/stats/other/kim-spymaster-comparison-colt.csv\"\n",
    "\n",
    "colt_df.to_csv(save_path)"
   ]
  },
  {
   "cell_type": "code",
   "execution_count": null,
   "metadata": {},
   "outputs": [],
   "source": []
  }
 ],
 "metadata": {
  "kernelspec": {
   "display_name": "codenames-ai-env",
   "language": "python",
   "name": "python3"
  },
  "language_info": {
   "codemirror_mode": {
    "name": "ipython",
    "version": 3
   },
   "file_extension": ".py",
   "mimetype": "text/x-python",
   "name": "python",
   "nbconvert_exporter": "python",
   "pygments_lexer": "ipython3",
   "version": "3.8.16"
  },
  "orig_nbformat": 4
 },
 "nbformat": 4,
 "nbformat_minor": 2
}
